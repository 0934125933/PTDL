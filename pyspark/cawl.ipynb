{
 "cells": [
  {
   "cell_type": "code",
   "execution_count": 1,
   "metadata": {},
   "outputs": [],
   "source": [
    "import pandas as pd\n"
   ]
  },
  {
   "cell_type": "code",
   "execution_count": 2,
   "metadata": {},
   "outputs": [],
   "source": [
    "df=pd.read_csv('job_data.csv')\n"
   ]
  },
  {
   "cell_type": "code",
   "execution_count": 3,
   "metadata": {},
   "outputs": [],
   "source": [
    "df = df.drop(columns=['Application_deadline', 'welfare', 'describe', 'industry', 'headquarters','courseUrl','technical_requirements'])"
   ]
  },
  {
   "cell_type": "code",
   "execution_count": null,
   "metadata": {},
   "outputs": [],
   "source": [
    "df"
   ]
  },
  {
   "cell_type": "code",
   "execution_count": 5,
   "metadata": {},
   "outputs": [],
   "source": [
    "# Sử dụng str.extract để tách tên công việc và mã công việc\n",
    "df['Tên công việc'] = df['job_name'].str.extract(r'^(.*?)\\s*\\(Mã:')\n",
    "df['Mã công việc'] = df['job_name'].str.extract(r'\\(Mã:(.*?)\\)')\n",
    "\n",
    "# Loại bỏ cột job_name nếu không cần nữa\n",
    "df = df.drop(columns=['job_name'])"
   ]
  },
  {
   "cell_type": "markdown",
   "metadata": {},
   "source": [
    "Biểu thức (r'^(.*?)\\s*\\(Mã:') hoạt động theo cách sau:\n",
    "\n",
    "Nó bắt đầu từ đầu chuỗi (^).\n",
    "Tìm tất cả các ký tự trước cụm (Mã:, thu thập chúng trong nhóm bắt đầu tiên (.*?).\n",
    "Bỏ qua bất kỳ khoảng trắng nào trước dấu (Mã: và dừng lại khi gặp chuỗi (Mã:.\n",
    "Ví dụ, với chuỗi \"2 NAM TRỢ LÝ CHO CỬA HÀNG (Mã:CV2020-25716)\", biểu thức này sẽ khớp với phần \"2 NAM TRỢ LÝ CHO CỬA HÀNG\" và lưu trữ nó trong nhóm bắt, đó là \"Tên công việc\"."
   ]
  },
  {
   "cell_type": "code",
   "execution_count": null,
   "metadata": {},
   "outputs": [],
   "source": [
    "df"
   ]
  },
  {
   "cell_type": "markdown",
   "metadata": {},
   "source": [
    "Biểu thức r'\\(Mã:(.*?)\\)' sẽ:\n",
    "\n",
    "Tìm chuỗi chứa cụm \"(Mã:\".\n",
    "Sau đó, nó sẽ khớp và bắt giữ mọi ký tự nằm giữa \"Mã:\" và dấu ngoặc tròn đóng ) nhờ nhóm bắt (.*?).\n",
    "Ví dụ với chuỗi \"2 NAM TRỢ LÝ CHO CỬA HÀNG (Mã:CV2020-25716)\", biểu thức này sẽ trích xuất và bắt giữ \"CV2020-25716\" trong nhóm bắt, đây chính là \"Mã công việc\".\n",
    "\n",
    "\n"
   ]
  },
  {
   "cell_type": "code",
   "execution_count": null,
   "metadata": {},
   "outputs": [],
   "source": [
    "df=df.drop(columns=['amount'])\n",
    "df"
   ]
  },
  {
   "cell_type": "code",
   "execution_count": 8,
   "metadata": {},
   "outputs": [],
   "source": [
    "# Đảm bảo cột 'age' chứa giá trị chuỗi\n",
    "df['age'] = df['age'].astype(str)\n",
    "\n",
    "# Xử lý cột 'age'\n",
    "df['age'] = df['age'].str.replace('khoảng', '', case=False)\n",
    "df['age'] = df['age'].str.replace('trở lên', '', case=False)\n",
    "df['age'] = df['age'].str.replace('dưới', '', case=False)\n",
    "df['age'] = df['age'].str.replace('trên', '', case=False)\n",
    "df['age'] = df['age'].str.replace('tuổi', '', case=False)\n",
    "df['age'] = df['age'].str.strip()  # Loại bỏ khoảng trắng ở đầu và cuối chuỗi\n",
    "\n",
    "# Chuyển đổi chuỗi thành kiểu số nếu cần thiết\n",
    "df['age'] = pd.to_numeric(df['age'], errors='coerce')"
   ]
  },
  {
   "cell_type": "code",
   "execution_count": null,
   "metadata": {},
   "outputs": [],
   "source": [
    "df"
   ]
  },
  {
   "cell_type": "code",
   "execution_count": null,
   "metadata": {},
   "outputs": [],
   "source": [
    "\n",
    "# Hàm chuyển số thành chữ cho cột experience\n",
    "def number_to_words(num):\n",
    "    # Từ điển chuyển đổi số thành chữ\n",
    "    number_dict = {\n",
    "        0: 'không', 1: 'một', 2: 'hai', 3: 'ba', 4: 'bốn', \n",
    "        5: 'năm', 6: 'sáu', 7: 'bảy', 8: 'tám', 9: 'chín'\n",
    "    }\n",
    "    \n",
    "    if pd.isnull(num):  # Kiểm tra nếu giá trị là NaN\n",
    "        return 'Không có dữ liệu'\n",
    "    \n",
    "    try:\n",
    "        # Chuyển đổi giá trị thành số nguyên\n",
    "        num = int(float(num))  # Chuyển đổi từ string sang số nếu cần\n",
    "    except (ValueError, TypeError):\n",
    "        return 'Không yeu cau'  # Trả về thông báo nếu không thể chuyển đổi\n",
    "    \n",
    "    return number_dict.get(num, str(num))  # Chuyển thành chữ tương ứng\n",
    "\n",
    "# Chuyển đổi cột experience thành chữ\n",
    "df['experience'] = df['experience'].apply(number_to_words)\n",
    "\n",
    "# Hiển thị DataFrame đã chuyển đổi\n",
    "df['experience']\n"
   ]
  },
  {
   "cell_type": "code",
   "execution_count": null,
   "metadata": {},
   "outputs": [],
   "source": [
    "df"
   ]
  },
  {
   "cell_type": "code",
   "execution_count": 12,
   "metadata": {},
   "outputs": [],
   "source": [
    "# Bỏ từ \"Ngày cập nhật\" trong cột 'upadte_date'\n",
    "df['upadte_date'] = df['upadte_date'].str.replace('Ngày cập nhật:', '', regex=False).str.strip()\n"
   ]
  },
  {
   "cell_type": "code",
   "execution_count": null,
   "metadata": {},
   "outputs": [],
   "source": [
    "df"
   ]
  },
  {
   "cell_type": "code",
   "execution_count": null,
   "metadata": {},
   "outputs": [],
   "source": [
    "# In ra danh sách các cột trong DataFrame\n",
    "print(df.columns)\n"
   ]
  },
  {
   "cell_type": "code",
   "execution_count": null,
   "metadata": {},
   "outputs": [],
   "source": [
    "df"
   ]
  },
  {
   "cell_type": "code",
   "execution_count": null,
   "metadata": {},
   "outputs": [],
   "source": [
    "df"
   ]
  },
  {
   "cell_type": "code",
   "execution_count": 17,
   "metadata": {},
   "outputs": [],
   "source": [
    " #Hàm để chuyển đổi số thành chữ\n",
    "def number_to_words(num):\n",
    "    number_dict = {\n",
    "        0: 'không', 1: 'một', 2: 'hai', 3: 'ba', 4: 'bốn', \n",
    "        5: 'năm', 6: 'sáu', 7: 'bảy', 8: 'tám', 9: 'chín'\n",
    "    }\n",
    "\n",
    "    if pd.isnull(num):  # Kiểm tra nếu giá trị là NaN\n",
    "        return 'Không có dữ liệu'\n",
    "    \n",
    "    if isinstance(num, int):  # Chỉ chuyển đổi nếu là số\n",
    "        return number_dict.get(num, str(num))  # Chuyển thành chữ tương ứng\n",
    "\n",
    "    return str(num)  # Trả về giá trị gốc nếu không phải số\n",
    "\n",
    "# Hàm để thay thế số trong tên công việc thành chữ\n",
    "def convert_job_title(job_title):\n",
    "    words = job_title.split()  # Tách từ\n",
    "    for i in range(len(words)):\n",
    "        if words[i].isdigit():  # Kiểm tra nếu từ là số\n",
    "            words[i] = number_to_words(int(words[i]))  # Chuyển đổi số thành chữ\n",
    "    return ' '.join(words)  # Kết hợp lại thành chuỗi\n",
    "\n",
    "# Chuyển đổi cột Tên công việc\n",
    "df['Tên công việc'] = df['Tên công việc'].apply(convert_job_title)"
   ]
  },
  {
   "cell_type": "code",
   "execution_count": null,
   "metadata": {},
   "outputs": [],
   "source": [
    "df"
   ]
  },
  {
   "cell_type": "code",
   "execution_count": null,
   "metadata": {},
   "outputs": [],
   "source": [
    "df.to_csv('du_lieu_lam_sach.csv', index=False, encoding='utf-8-sig')\n",
    "\n",
    "print(\"\\nDữ liệu đã được lưu vào file 'du_lieu_lam_sach.csv'.\")"
   ]
  }
 ],
 "metadata": {
  "kernelspec": {
   "display_name": "Python 3",
   "language": "python",
   "name": "python3"
  },
  "language_info": {
   "codemirror_mode": {
    "name": "ipython",
    "version": 3
   },
   "file_extension": ".py",
   "mimetype": "text/x-python",
   "name": "python",
   "nbconvert_exporter": "python",
   "pygments_lexer": "ipython3",
   "version": "3.12.5"
  }
 },
 "nbformat": 4,
 "nbformat_minor": 2
}
