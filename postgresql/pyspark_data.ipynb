{
 "cells": [
  {
   "cell_type": "code",
   "execution_count": 1,
   "metadata": {},
   "outputs": [],
   "source": [
    "from pymongo import MongoClient\n",
    "from pyspark.sql import SparkSession\n",
    "spark = SparkSession.builder.appName(\"Python Spark SQL basic example\").getOrCreate()"
   ]
  },
  {
   "cell_type": "code",
   "execution_count": 2,
   "metadata": {},
   "outputs": [
    {
     "data": {
      "text/html": [
       "\n",
       "            <div>\n",
       "                <p><b>SparkSession - in-memory</b></p>\n",
       "                \n",
       "        <div>\n",
       "            <p><b>SparkContext</b></p>\n",
       "\n",
       "            <p><a href=\"http://172.16.0.79:4040\">Spark UI</a></p>\n",
       "\n",
       "            <dl>\n",
       "              <dt>Version</dt>\n",
       "                <dd><code>v3.5.3</code></dd>\n",
       "              <dt>Master</dt>\n",
       "                <dd><code>local[*]</code></dd>\n",
       "              <dt>AppName</dt>\n",
       "                <dd><code>Python Spark SQL basic example</code></dd>\n",
       "            </dl>\n",
       "        </div>\n",
       "        \n",
       "            </div>\n",
       "        "
      ],
      "text/plain": [
       "<pyspark.sql.session.SparkSession at 0x13fff755730>"
      ]
     },
     "execution_count": 2,
     "metadata": {},
     "output_type": "execute_result"
    }
   ],
   "source": [
    "# Khởi tạo SparkSession\n",
    "from pyspark.sql import SparkSession\n",
    "spark.builder.appName(\"MongoDB to Spark and PostgreSQL\")\n",
    "spark.builder.config(\"spark.jars.packages\", \"org.mongodb.spark:mongo-spark-connector_2.12:3.0.2,org.postgresql:postgresql:42.7.4\")\n",
    "spark.builder.config(\"spark.mongodb.input.uri\", \"mongodb://localhost:27017/dbjobcrawler\")\n",
    "spark.builder.getOrCreate()"
   ]
  },
  {
   "cell_type": "code",
   "execution_count": 3,
   "metadata": {},
   "outputs": [
    {
     "ename": "Py4JJavaError",
     "evalue": "An error occurred while calling o32.load.\n: org.apache.spark.SparkClassNotFoundException: [DATA_SOURCE_NOT_FOUND] Failed to find the data source: mongo. Please find packages at `https://spark.apache.org/third-party-projects.html`.\r\n\tat org.apache.spark.sql.errors.QueryExecutionErrors$.dataSourceNotFoundError(QueryExecutionErrors.scala:725)\r\n\tat org.apache.spark.sql.execution.datasources.DataSource$.lookupDataSource(DataSource.scala:647)\r\n\tat org.apache.spark.sql.execution.datasources.DataSource$.lookupDataSourceV2(DataSource.scala:697)\r\n\tat org.apache.spark.sql.DataFrameReader.load(DataFrameReader.scala:208)\r\n\tat org.apache.spark.sql.DataFrameReader.load(DataFrameReader.scala:172)\r\n\tat sun.reflect.NativeMethodAccessorImpl.invoke0(Native Method)\r\n\tat sun.reflect.NativeMethodAccessorImpl.invoke(Unknown Source)\r\n\tat sun.reflect.DelegatingMethodAccessorImpl.invoke(Unknown Source)\r\n\tat java.lang.reflect.Method.invoke(Unknown Source)\r\n\tat py4j.reflection.MethodInvoker.invoke(MethodInvoker.java:244)\r\n\tat py4j.reflection.ReflectionEngine.invoke(ReflectionEngine.java:374)\r\n\tat py4j.Gateway.invoke(Gateway.java:282)\r\n\tat py4j.commands.AbstractCommand.invokeMethod(AbstractCommand.java:132)\r\n\tat py4j.commands.CallCommand.execute(CallCommand.java:79)\r\n\tat py4j.ClientServerConnection.waitForCommands(ClientServerConnection.java:182)\r\n\tat py4j.ClientServerConnection.run(ClientServerConnection.java:106)\r\n\tat java.lang.Thread.run(Unknown Source)\r\nCaused by: java.lang.ClassNotFoundException: mongo.DefaultSource\r\n\tat java.net.URLClassLoader.findClass(Unknown Source)\r\n\tat java.lang.ClassLoader.loadClass(Unknown Source)\r\n\tat java.lang.ClassLoader.loadClass(Unknown Source)\r\n\tat org.apache.spark.sql.execution.datasources.DataSource$.$anonfun$lookupDataSource$5(DataSource.scala:633)\r\n\tat scala.util.Try$.apply(Try.scala:213)\r\n\tat org.apache.spark.sql.execution.datasources.DataSource$.$anonfun$lookupDataSource$4(DataSource.scala:633)\r\n\tat scala.util.Failure.orElse(Try.scala:224)\r\n\tat org.apache.spark.sql.execution.datasources.DataSource$.lookupDataSource(DataSource.scala:633)\r\n\t... 15 more\r\n",
     "output_type": "error",
     "traceback": [
      "\u001b[1;31m---------------------------------------------------------------------------\u001b[0m",
      "\u001b[1;31mPy4JJavaError\u001b[0m                             Traceback (most recent call last)",
      "Cell \u001b[1;32mIn[3], line 2\u001b[0m\n\u001b[0;32m      1\u001b[0m \u001b[38;5;66;03m#doc du lieu tu mongo\u001b[39;00m\n\u001b[1;32m----> 2\u001b[0m df\u001b[38;5;241m=\u001b[39m\u001b[43mspark\u001b[49m\u001b[38;5;241;43m.\u001b[39;49m\u001b[43mread\u001b[49m\u001b[38;5;241;43m.\u001b[39;49m\u001b[43mformat\u001b[49m\u001b[43m(\u001b[49m\u001b[38;5;124;43m\"\u001b[39;49m\u001b[38;5;124;43mmongo\u001b[39;49m\u001b[38;5;124;43m\"\u001b[39;49m\u001b[43m)\u001b[49m\u001b[38;5;241;43m.\u001b[39;49m\u001b[43moption\u001b[49m\u001b[43m(\u001b[49m\u001b[38;5;124;43m\"\u001b[39;49m\u001b[38;5;124;43mcollection\u001b[39;49m\u001b[38;5;124;43m\"\u001b[39;49m\u001b[43m,\u001b[49m\u001b[38;5;124;43m\"\u001b[39;49m\u001b[38;5;124;43mtbljob\u001b[39;49m\u001b[38;5;124;43m\"\u001b[39;49m\u001b[43m)\u001b[49m\u001b[38;5;241;43m.\u001b[39;49m\u001b[43mload\u001b[49m\u001b[43m(\u001b[49m\u001b[43m)\u001b[49m\n\u001b[0;32m      3\u001b[0m \u001b[38;5;66;03m# Hiển thị schema \u001b[39;00m\n\u001b[0;32m      4\u001b[0m df\u001b[38;5;241m.\u001b[39mprintSchema()\n",
      "File \u001b[1;32mc:\\Users\\Admin\\AppData\\Local\\Programs\\Python\\Python312\\Lib\\site-packages\\pyspark\\sql\\readwriter.py:314\u001b[0m, in \u001b[0;36mDataFrameReader.load\u001b[1;34m(self, path, format, schema, **options)\u001b[0m\n\u001b[0;32m    312\u001b[0m     \u001b[38;5;28;01mreturn\u001b[39;00m \u001b[38;5;28mself\u001b[39m\u001b[38;5;241m.\u001b[39m_df(\u001b[38;5;28mself\u001b[39m\u001b[38;5;241m.\u001b[39m_jreader\u001b[38;5;241m.\u001b[39mload(\u001b[38;5;28mself\u001b[39m\u001b[38;5;241m.\u001b[39m_spark\u001b[38;5;241m.\u001b[39m_sc\u001b[38;5;241m.\u001b[39m_jvm\u001b[38;5;241m.\u001b[39mPythonUtils\u001b[38;5;241m.\u001b[39mtoSeq(path)))\n\u001b[0;32m    313\u001b[0m \u001b[38;5;28;01melse\u001b[39;00m:\n\u001b[1;32m--> 314\u001b[0m     \u001b[38;5;28;01mreturn\u001b[39;00m \u001b[38;5;28mself\u001b[39m\u001b[38;5;241m.\u001b[39m_df(\u001b[38;5;28;43mself\u001b[39;49m\u001b[38;5;241;43m.\u001b[39;49m\u001b[43m_jreader\u001b[49m\u001b[38;5;241;43m.\u001b[39;49m\u001b[43mload\u001b[49m\u001b[43m(\u001b[49m\u001b[43m)\u001b[49m)\n",
      "File \u001b[1;32mc:\\Users\\Admin\\AppData\\Local\\Programs\\Python\\Python312\\Lib\\site-packages\\py4j\\java_gateway.py:1322\u001b[0m, in \u001b[0;36mJavaMember.__call__\u001b[1;34m(self, *args)\u001b[0m\n\u001b[0;32m   1316\u001b[0m command \u001b[38;5;241m=\u001b[39m proto\u001b[38;5;241m.\u001b[39mCALL_COMMAND_NAME \u001b[38;5;241m+\u001b[39m\\\n\u001b[0;32m   1317\u001b[0m     \u001b[38;5;28mself\u001b[39m\u001b[38;5;241m.\u001b[39mcommand_header \u001b[38;5;241m+\u001b[39m\\\n\u001b[0;32m   1318\u001b[0m     args_command \u001b[38;5;241m+\u001b[39m\\\n\u001b[0;32m   1319\u001b[0m     proto\u001b[38;5;241m.\u001b[39mEND_COMMAND_PART\n\u001b[0;32m   1321\u001b[0m answer \u001b[38;5;241m=\u001b[39m \u001b[38;5;28mself\u001b[39m\u001b[38;5;241m.\u001b[39mgateway_client\u001b[38;5;241m.\u001b[39msend_command(command)\n\u001b[1;32m-> 1322\u001b[0m return_value \u001b[38;5;241m=\u001b[39m \u001b[43mget_return_value\u001b[49m\u001b[43m(\u001b[49m\n\u001b[0;32m   1323\u001b[0m \u001b[43m    \u001b[49m\u001b[43manswer\u001b[49m\u001b[43m,\u001b[49m\u001b[43m \u001b[49m\u001b[38;5;28;43mself\u001b[39;49m\u001b[38;5;241;43m.\u001b[39;49m\u001b[43mgateway_client\u001b[49m\u001b[43m,\u001b[49m\u001b[43m \u001b[49m\u001b[38;5;28;43mself\u001b[39;49m\u001b[38;5;241;43m.\u001b[39;49m\u001b[43mtarget_id\u001b[49m\u001b[43m,\u001b[49m\u001b[43m \u001b[49m\u001b[38;5;28;43mself\u001b[39;49m\u001b[38;5;241;43m.\u001b[39;49m\u001b[43mname\u001b[49m\u001b[43m)\u001b[49m\n\u001b[0;32m   1325\u001b[0m \u001b[38;5;28;01mfor\u001b[39;00m temp_arg \u001b[38;5;129;01min\u001b[39;00m temp_args:\n\u001b[0;32m   1326\u001b[0m     \u001b[38;5;28;01mif\u001b[39;00m \u001b[38;5;28mhasattr\u001b[39m(temp_arg, \u001b[38;5;124m\"\u001b[39m\u001b[38;5;124m_detach\u001b[39m\u001b[38;5;124m\"\u001b[39m):\n",
      "File \u001b[1;32mc:\\Users\\Admin\\AppData\\Local\\Programs\\Python\\Python312\\Lib\\site-packages\\pyspark\\errors\\exceptions\\captured.py:179\u001b[0m, in \u001b[0;36mcapture_sql_exception.<locals>.deco\u001b[1;34m(*a, **kw)\u001b[0m\n\u001b[0;32m    177\u001b[0m \u001b[38;5;28;01mdef\u001b[39;00m \u001b[38;5;21mdeco\u001b[39m(\u001b[38;5;241m*\u001b[39ma: Any, \u001b[38;5;241m*\u001b[39m\u001b[38;5;241m*\u001b[39mkw: Any) \u001b[38;5;241m-\u001b[39m\u001b[38;5;241m>\u001b[39m Any:\n\u001b[0;32m    178\u001b[0m     \u001b[38;5;28;01mtry\u001b[39;00m:\n\u001b[1;32m--> 179\u001b[0m         \u001b[38;5;28;01mreturn\u001b[39;00m \u001b[43mf\u001b[49m\u001b[43m(\u001b[49m\u001b[38;5;241;43m*\u001b[39;49m\u001b[43ma\u001b[49m\u001b[43m,\u001b[49m\u001b[43m \u001b[49m\u001b[38;5;241;43m*\u001b[39;49m\u001b[38;5;241;43m*\u001b[39;49m\u001b[43mkw\u001b[49m\u001b[43m)\u001b[49m\n\u001b[0;32m    180\u001b[0m     \u001b[38;5;28;01mexcept\u001b[39;00m Py4JJavaError \u001b[38;5;28;01mas\u001b[39;00m e:\n\u001b[0;32m    181\u001b[0m         converted \u001b[38;5;241m=\u001b[39m convert_exception(e\u001b[38;5;241m.\u001b[39mjava_exception)\n",
      "File \u001b[1;32mc:\\Users\\Admin\\AppData\\Local\\Programs\\Python\\Python312\\Lib\\site-packages\\py4j\\protocol.py:326\u001b[0m, in \u001b[0;36mget_return_value\u001b[1;34m(answer, gateway_client, target_id, name)\u001b[0m\n\u001b[0;32m    324\u001b[0m value \u001b[38;5;241m=\u001b[39m OUTPUT_CONVERTER[\u001b[38;5;28mtype\u001b[39m](answer[\u001b[38;5;241m2\u001b[39m:], gateway_client)\n\u001b[0;32m    325\u001b[0m \u001b[38;5;28;01mif\u001b[39;00m answer[\u001b[38;5;241m1\u001b[39m] \u001b[38;5;241m==\u001b[39m REFERENCE_TYPE:\n\u001b[1;32m--> 326\u001b[0m     \u001b[38;5;28;01mraise\u001b[39;00m Py4JJavaError(\n\u001b[0;32m    327\u001b[0m         \u001b[38;5;124m\"\u001b[39m\u001b[38;5;124mAn error occurred while calling \u001b[39m\u001b[38;5;132;01m{0}\u001b[39;00m\u001b[38;5;132;01m{1}\u001b[39;00m\u001b[38;5;132;01m{2}\u001b[39;00m\u001b[38;5;124m.\u001b[39m\u001b[38;5;130;01m\\n\u001b[39;00m\u001b[38;5;124m\"\u001b[39m\u001b[38;5;241m.\u001b[39m\n\u001b[0;32m    328\u001b[0m         \u001b[38;5;28mformat\u001b[39m(target_id, \u001b[38;5;124m\"\u001b[39m\u001b[38;5;124m.\u001b[39m\u001b[38;5;124m\"\u001b[39m, name), value)\n\u001b[0;32m    329\u001b[0m \u001b[38;5;28;01melse\u001b[39;00m:\n\u001b[0;32m    330\u001b[0m     \u001b[38;5;28;01mraise\u001b[39;00m Py4JError(\n\u001b[0;32m    331\u001b[0m         \u001b[38;5;124m\"\u001b[39m\u001b[38;5;124mAn error occurred while calling \u001b[39m\u001b[38;5;132;01m{0}\u001b[39;00m\u001b[38;5;132;01m{1}\u001b[39;00m\u001b[38;5;132;01m{2}\u001b[39;00m\u001b[38;5;124m. Trace:\u001b[39m\u001b[38;5;130;01m\\n\u001b[39;00m\u001b[38;5;132;01m{3}\u001b[39;00m\u001b[38;5;130;01m\\n\u001b[39;00m\u001b[38;5;124m\"\u001b[39m\u001b[38;5;241m.\u001b[39m\n\u001b[0;32m    332\u001b[0m         \u001b[38;5;28mformat\u001b[39m(target_id, \u001b[38;5;124m\"\u001b[39m\u001b[38;5;124m.\u001b[39m\u001b[38;5;124m\"\u001b[39m, name, value))\n",
      "\u001b[1;31mPy4JJavaError\u001b[0m: An error occurred while calling o32.load.\n: org.apache.spark.SparkClassNotFoundException: [DATA_SOURCE_NOT_FOUND] Failed to find the data source: mongo. Please find packages at `https://spark.apache.org/third-party-projects.html`.\r\n\tat org.apache.spark.sql.errors.QueryExecutionErrors$.dataSourceNotFoundError(QueryExecutionErrors.scala:725)\r\n\tat org.apache.spark.sql.execution.datasources.DataSource$.lookupDataSource(DataSource.scala:647)\r\n\tat org.apache.spark.sql.execution.datasources.DataSource$.lookupDataSourceV2(DataSource.scala:697)\r\n\tat org.apache.spark.sql.DataFrameReader.load(DataFrameReader.scala:208)\r\n\tat org.apache.spark.sql.DataFrameReader.load(DataFrameReader.scala:172)\r\n\tat sun.reflect.NativeMethodAccessorImpl.invoke0(Native Method)\r\n\tat sun.reflect.NativeMethodAccessorImpl.invoke(Unknown Source)\r\n\tat sun.reflect.DelegatingMethodAccessorImpl.invoke(Unknown Source)\r\n\tat java.lang.reflect.Method.invoke(Unknown Source)\r\n\tat py4j.reflection.MethodInvoker.invoke(MethodInvoker.java:244)\r\n\tat py4j.reflection.ReflectionEngine.invoke(ReflectionEngine.java:374)\r\n\tat py4j.Gateway.invoke(Gateway.java:282)\r\n\tat py4j.commands.AbstractCommand.invokeMethod(AbstractCommand.java:132)\r\n\tat py4j.commands.CallCommand.execute(CallCommand.java:79)\r\n\tat py4j.ClientServerConnection.waitForCommands(ClientServerConnection.java:182)\r\n\tat py4j.ClientServerConnection.run(ClientServerConnection.java:106)\r\n\tat java.lang.Thread.run(Unknown Source)\r\nCaused by: java.lang.ClassNotFoundException: mongo.DefaultSource\r\n\tat java.net.URLClassLoader.findClass(Unknown Source)\r\n\tat java.lang.ClassLoader.loadClass(Unknown Source)\r\n\tat java.lang.ClassLoader.loadClass(Unknown Source)\r\n\tat org.apache.spark.sql.execution.datasources.DataSource$.$anonfun$lookupDataSource$5(DataSource.scala:633)\r\n\tat scala.util.Try$.apply(Try.scala:213)\r\n\tat org.apache.spark.sql.execution.datasources.DataSource$.$anonfun$lookupDataSource$4(DataSource.scala:633)\r\n\tat scala.util.Failure.orElse(Try.scala:224)\r\n\tat org.apache.spark.sql.execution.datasources.DataSource$.lookupDataSource(DataSource.scala:633)\r\n\t... 15 more\r\n"
     ]
    }
   ],
   "source": [
    "#doc du lieu tu mongo\n",
    "df=spark.read.format(\"mongo\").option(\"collection\",\"tbljob\").load()\n",
    "# Hiển thị schema \n",
    "df.printSchema()\n",
    "#hien du lieu\n",
    "df.show()"
   ]
  },
  {
   "cell_type": "code",
   "execution_count": 49,
   "metadata": {},
   "outputs": [
    {
     "name": "stdout",
     "output_type": "stream",
     "text": [
      "+---------+---------------+------+--------------------+----------+--------------+-----------+------------+---------------+-----------+--------------------+--------------------+\n",
      "|Diện_tích|            Giá|Mã_tin|               Mô_tả| Ngày_đăng|       Pháp_lý|       Quận|Số_phòng_ngủ|Số_phòng_toilet|  Thành_phố|             Tiêu_đề|               Đường|\n",
      "+---------+---------------+------+--------------------+----------+--------------+-----------+------------+---------------+-----------+--------------------+--------------------+\n",
      "|   100 m²|       10 triệu|121237|Thanh lý nhà Lý T...|05/10/2024|          NULL|   Cam Ranh|     2 phòng|        3 phòng|  Khánh Hòa|Thanh lý nhà Lý T...|Thanh lý nhà Lý T...|\n",
      "|   200 m²|11 tỷ 090 triệu|121187|💎💎💎 HIẾM DÃY T...|02/10/2024|Sổ đỏ/ Sổ hồng|     Gò Vấp|    15 phòng|       15 phòng|Hồ Chí Minh|BÁN GẤP DÃY NHÀ T...|         Quang Trung|\n",
      "|    56 m²| 9 tỷ 950 triệu|121146|Bán nhà HXH hạ ch...|02/10/2024|Sổ đỏ/ Sổ hồng|  Hoàn Kiếm|     4 phòng|        5 phòng|     Hà Nội|Bán nhà HXH hạ ch...|       Trần Hưng Đạo|\n",
      "|    75 m²|           2 tỷ|121107|B.án gấp căn CCMN...|01/10/2024|Sổ đỏ/ Sổ hồng| Thanh Xuân|     3 phòng|        2 phòng|     Hà Nội|bán gấp căn CCMN ...|           Giáp Nhất|\n",
      "|    45 m²| 5 tỷ 800 triệu|121111|              Mô tả:|02/10/2024|Sổ đỏ/ Sổ hồng| Bình Thạnh|     3 phòng|        3 phòng|Hồ Chí Minh|MẶT TIỀN KINH DOA...|                   1|\n",
      "|         |          45 tỷ|121070|Chính chủ bán nhà...|01/10/2024|Sổ đỏ/ Sổ hồng|     Quận 1|        NULL|           NULL|Hồ Chí Minh|Bán nhà Mặt tiền ...|             Đề Thám|\n",
      "|    55 m²|           0000|121001|CHỦ CẦN TIỀN BÁN ...|01/10/2024|Sổ đỏ/ Sổ hồng|Bắc Từ Liêm|        NULL|           NULL|     Hà Nội|CHỦ CẦN TIỀN BÁN ...|            Phú Diễn|\n",
      "|    20 m²| 5 tỷ 400 triệu|120961|              Mô tả:|30/09/2024|Sổ đỏ/ Sổ hồng|    Quận 10|     2 phòng|        3 phòng|Hồ Chí Minh|NHÀ PHƯỜNG 12 - H...|       Tô Hiến Thành|\n",
      "|    60 m²|      750 triệu|120917|- Vị trí: Mặt tiề...|30/09/2024|Sổ đỏ/ Sổ hồng| Nhơn Trạch|        NULL|           NULL|   Đồng Nai|DUY NHẤT 1 CĂN MẶ...|          Võ Thị Sáu|\n",
      "|    63 m²| 5 tỷ 890 triệu|120877|Nhà Đinh Bộ Lĩnh ...|30/09/2024|Sổ đỏ/ Sổ hồng| Bình Thạnh|     2 phòng|        2 phòng|Hồ Chí Minh|Nhà Đinh Bộ Lĩnh ...|        Đinh Bộ Lĩnh|\n",
      "|    88 m²| 8 tỷ 500 triệu|120840|CHÍNH CHỦ CẦN B.Á...|29/09/2024|Sổ đỏ/ Sổ hồng|  Thanh Trì|     4 phòng|        4 phòng|     Hà Nội|CHÍNH CHỦ CẦN B.Á...|                   1|\n",
      "|    30 m²|           6 tỷ|120805|BÁN NHÀ YÊN HÒA T...|28/09/2024|Sổ đỏ/ Sổ hồng|   Cầu Giấy|     3 phòng|        3 phòng|     Hà Nội|BÁN NHÀ YÊN HÒA -...|             Yên Hòa|\n",
      "|    42 m²| 9 tỷ 750 triệu|120772|LÔ GÓC - KINH DOA...|28/09/2024|Sổ đỏ/ Sổ hồng|    Hà Đông|     3 phòng|           NULL|     Hà Nội|- VĂN QUÁN -HÀ ĐÔ...|                19/5|\n",
      "|    78 m²|10 tỷ 600 triệu|120724|Diện tích: 4.1m x...|28/09/2024|Sổ đỏ/ Sổ hồng|    Tân Phú|     3 phòng|        4 phòng|Hồ Chí Minh|Giá tốt!!! Mặt...|              Lê Sao|\n",
      "|    51 m²| 7 tỷ 900 triệu|120685|CHÍNH CHỦ CẦN BÁN...|27/09/2024|Sổ đỏ/ Sổ hồng|  Hoàng Mai|     4 phòng|        3 phòng|     Hà Nội|CHÍNH CHỦ CẦN BÁN...|           Hoàng Mai|\n",
      "|    44 m²|           4 tỷ|120641|👉SIÊU PHẨM 3 TẦN...|27/09/2024|Sổ đỏ/ Sổ hồng|   Bình Tân|     3 phòng|           NULL|Hồ Chí Minh|👉SIÊU PHẨM 3 TẦN...|               mã lò|\n",
      "|    82 m²|          23 tỷ|120606|Giảm 29 tỷ bán 23...|26/09/2024|Sổ đỏ/ Sổ hồng|    Quận 10|    11 phòng|       11 phòng|Hồ Chí Minh|BÁN LỖ KHÁCH SẠN ...|    Trần Thiện Chánh|\n",
      "|    58 m²|16 tỷ 800 triệu|120605|Bán Căn Hộ Dịch V...|26/09/2024|Sổ đỏ/ Sổ hồng|    Quận 10|    14 phòng|       15 phòng|Hồ Chí Minh|Bán Căn Hộ Dịch V...|       Lê Hồng Phong|\n",
      "|    68 m²| 7 tỷ 100 triệu|120607|Bán Nhà Âu Cơ Phư...|26/09/2024|Sổ đỏ/ Sổ hồng|   Tân Bình|     9 phòng|       10 phòng|Hồ Chí Minh|Bán Nhà Âu Cơ Phư...|               Âu Cơ|\n",
      "|    40 m²| 6 tỷ 200 triệu|120608|Bán nhà ngõ 20 Hồ...|26/09/2024|Sổ đỏ/ Sổ hồng|Bắc Từ Liêm|     4 phòng|        4 phòng|     Hà Nội|Bán nhà ngõ 82 TR...|           Trần Cung|\n",
      "+---------+---------------+------+--------------------+----------+--------------+-----------+------------+---------------+-----------+--------------------+--------------------+\n",
      "only showing top 20 rows\n",
      "\n"
     ]
    }
   ],
   "source": [
    "#Xóa các cột không cần thiết\n",
    "df = df.drop(\"_id\",\"Chi_tiet_link\")\n",
    "# Hiển thị dữ liệu sau khi xóa cột\n",
    "df.show()\n"
   ]
  },
  {
   "cell_type": "code",
   "execution_count": 50,
   "metadata": {},
   "outputs": [
    {
     "data": {
      "text/plain": [
       "['Diện_tích',\n",
       " 'Giá',\n",
       " 'Mã_tin',\n",
       " 'Mô_tả',\n",
       " 'Ngày_đăng',\n",
       " 'Pháp_lý',\n",
       " 'Quận',\n",
       " 'Số_phòng_ngủ',\n",
       " 'Số_phòng_toilet',\n",
       " 'Thành_phố',\n",
       " 'Tiêu_đề',\n",
       " 'Đường']"
      ]
     },
     "execution_count": 50,
     "metadata": {},
     "output_type": "execute_result"
    }
   ],
   "source": [
    "df.columns"
   ]
  },
  {
   "cell_type": "code",
   "execution_count": 51,
   "metadata": {},
   "outputs": [],
   "source": [
    "from pyspark.sql import functions as F\n",
    "\n",
    "def remove_special_characters_pyspark(df, text_column):\n",
    "    # Xử lý biểu tượng emoji và ký tự đặc biệt\n",
    "    emoji_pattern = \"[\" \\\n",
    "        \"\\U0001F600-\\U0001F64F\"  \\\n",
    "        \"\\U0001F300-\\U0001F5FF\"  \\\n",
    "        \"\\U0001F680-\\U0001F6FF\"  \\\n",
    "        \"\\U0001F1E0-\\U0001F1FF\"  \\\n",
    "        \"\\u2600-\\u26FF\"  \\\n",
    "        \"\\u2700-\\u27BF\"  \\\n",
    "        \"]\"\n",
    "    \n",
    "    # Loại bỏ emoji\n",
    "    df = df.withColumn(text_column, F.regexp_replace(text_column, emoji_pattern, \"\"))\n",
    "    \n",
    "    # Loại bỏ các ký tự đặc biệt, chỉ giữ lại các ký tự tiếng Việt, chữ cái, số, khoảng trắng và dấu câu cơ bản\n",
    "    allowed_chars = r'[^a-zA-Z0-9\\s.,áàảãạăắằẳẵặâấầẩẫậéèẻẽẹêếềểễệíìỉĩịóòỏõọôốồổỗộơớờởỡợúùủũụưứừửữựýỳỷỹỵđÁÀẢÃẠĂẮẰẲẴẶÂẤẦẨẪẬÉÈẺẼẸÊẾỀỂỄỆÍÌỈĨỊÓÒỎÕỌÔỐỒỔỖỘƠỚỜỞỠỢÚÙỦŨỤƯỨỪỬỮỰÝỲỶỸỴĐ]'\n",
    "    \n",
    "    df = df.withColumn(text_column, F.regexp_replace(text_column, allowed_chars, \"\"))\n",
    "    \n",
    "    return df\n",
    "# Giả sử DataFrame có cột 'text' chứa dữ liệu văn bản\n",
    "df=remove_special_characters_pyspark(df, 'Mô_tả')\n",
    "df=remove_special_characters_pyspark(df, 'Tiêu_đề')\n"
   ]
  },
  {
   "cell_type": "code",
   "execution_count": 52,
   "metadata": {},
   "outputs": [],
   "source": [
    "# kiểm tra lại\n",
    "import re\n",
    "from pyspark.sql.functions import udf\n",
    "from pyspark.sql.types import BooleanType\n",
    "\n",
    "# Biểu thức regex cho emoji\n",
    "emoji_pattern = \"[\" \\\n",
    "    \"\\U0001F600-\\U0001F64F\"  \\\n",
    "    \"\\U0001F300-\\U0001F5FF\"  \\\n",
    "    \"\\U0001F680-\\U0001F6FF\"  \\\n",
    "    \"\\U0001F1E0-\\U0001F1FF\"  \\\n",
    "    \"\\u2600-\\u26FF\"  \\\n",
    "    \"\\u2700-\\u27BF\"  \\\n",
    "    \"]\"\n",
    "\n",
    "# Hàm Python kiểm tra xem chuỗi có chứa emoji không\n",
    "def contains_emoji(text):\n",
    "    if re.search(emoji_pattern, text):\n",
    "        return True\n",
    "    return False\n",
    "\n",
    "# Đăng ký hàm UDF trong PySpark\n",
    "contains_emoji_udf = udf(contains_emoji, BooleanType())\n"
   ]
  },
  {
   "cell_type": "code",
   "execution_count": 53,
   "metadata": {},
   "outputs": [
    {
     "name": "stdout",
     "output_type": "stream",
     "text": [
      "Số hàng chứa emoji: 0\n"
     ]
    }
   ],
   "source": [
    "# Áp dụng UDF để kiểm tra emoji trong cột 'Mô_tả' và 'Tiêu_đề'\n",
    "df_with_emoji = df.withColumn('has_emoji_in_Mo_ta', contains_emoji_udf(df['Mô_tả'])) \\\n",
    "                  .withColumn('has_emoji_in_Tieu_de', contains_emoji_udf(df['Tiêu_đề']))\n",
    "\n",
    "# Lọc những hàng chứa emoji\n",
    "emoji_rows = df_with_emoji.filter(F.col('has_emoji_in_Mo_ta') | F.col('has_emoji_in_Tieu_de'))\n",
    "\n",
    "# Đếm số hàng chứa emoji\n",
    "emoji_count = emoji_rows.count()\n",
    "print(f\"Số hàng chứa emoji: {emoji_count}\")\n"
   ]
  },
  {
   "cell_type": "code",
   "execution_count": 54,
   "metadata": {},
   "outputs": [
    {
     "name": "stdout",
     "output_type": "stream",
     "text": [
      "+---------+---------------+------+--------------------+----------+--------------+-----------+------------+---------------+-----------+--------------------+--------------------+\n",
      "|Diện_tích|            Giá|Mã_tin|               Mô_tả| Ngày_đăng|       Pháp_lý|       Quận|Số_phòng_ngủ|Số_phòng_toilet|  Thành_phố|             Tiêu_đề|               Đường|\n",
      "+---------+---------------+------+--------------------+----------+--------------+-----------+------------+---------------+-----------+--------------------+--------------------+\n",
      "|   100 m²|       10 triệu|121237|Thanh lý nhà Lý T...|05/10/2024|          NULL|   Cam Ranh|     2 phòng|        3 phòng|  Khánh Hòa|Thanh lý nhà Lý T...|Thanh lý nhà Lý T...|\n",
      "|   200 m²|11 tỷ 090 triệu|121187| HIẾM DÃY TRỌ 1 X...|02/10/2024|Sổ đỏ/ Sổ hồng|     Gò Vấp|    15 phòng|       15 phòng|Hồ Chí Minh|BÁN GẤP DÃY NHÀ T...|         Quang Trung|\n",
      "|    56 m²| 9 tỷ 950 triệu|121146|Bán nhà HXH hạ ch...|02/10/2024|Sổ đỏ/ Sổ hồng|  Hoàn Kiếm|     4 phòng|        5 phòng|     Hà Nội|Bán nhà HXH hạ ch...|       Trần Hưng Đạo|\n",
      "|    75 m²|           2 tỷ|121107|B.án gấp căn CCMN...|01/10/2024|Sổ đỏ/ Sổ hồng| Thanh Xuân|     3 phòng|        2 phòng|     Hà Nội|bán gấp căn CCMN ...|           Giáp Nhất|\n",
      "|    45 m²| 5 tỷ 800 triệu|121111|               Mô tả|02/10/2024|Sổ đỏ/ Sổ hồng| Bình Thạnh|     3 phòng|        3 phòng|Hồ Chí Minh|MẶT TIỀN KINH DOA...|                   1|\n",
      "|         |          45 tỷ|121070|Chính chủ bán nhà...|01/10/2024|Sổ đỏ/ Sổ hồng|     Quận 1|        NULL|           NULL|Hồ Chí Minh|Bán nhà Mặt tiền ...|             Đề Thám|\n",
      "|    55 m²|           0000|121001|CHỦ CẦN TIỀN BÁN ...|01/10/2024|Sổ đỏ/ Sổ hồng|Bắc Từ Liêm|        NULL|           NULL|     Hà Nội|CHỦ CẦN TIỀN BÁN ...|            Phú Diễn|\n",
      "|    20 m²| 5 tỷ 400 triệu|120961|               Mô tả|30/09/2024|Sổ đỏ/ Sổ hồng|    Quận 10|     2 phòng|        3 phòng|Hồ Chí Minh|NHÀ PHƯỜNG 12  HẺ...|       Tô Hiến Thành|\n",
      "|    60 m²|      750 triệu|120917| Vị trí Mặt tiền ...|30/09/2024|Sổ đỏ/ Sổ hồng| Nhơn Trạch|        NULL|           NULL|   Đồng Nai|DUY NHẤT 1 CĂN MẶ...|          Võ Thị Sáu|\n",
      "|    63 m²| 5 tỷ 890 triệu|120877|Nhà Đinh Bộ Lĩnh ...|30/09/2024|Sổ đỏ/ Sổ hồng| Bình Thạnh|     2 phòng|        2 phòng|Hồ Chí Minh|Nhà Đinh Bộ Lĩnh ...|        Đinh Bộ Lĩnh|\n",
      "|    88 m²| 8 tỷ 500 triệu|120840|CHÍNH CHỦ CẦN B.Á...|29/09/2024|Sổ đỏ/ Sổ hồng|  Thanh Trì|     4 phòng|        4 phòng|     Hà Nội|CHÍNH CHỦ CẦN B.Á...|                   1|\n",
      "|    30 m²|           6 tỷ|120805|BÁN NHÀ YÊN HÒA T...|28/09/2024|Sổ đỏ/ Sổ hồng|   Cầu Giấy|     3 phòng|        3 phòng|     Hà Nội|BÁN NHÀ YÊN HÒA  ...|             Yên Hòa|\n",
      "|    42 m²| 9 tỷ 750 triệu|120772|LÔ GÓC  KINH DOAN...|28/09/2024|Sổ đỏ/ Sổ hồng|    Hà Đông|     3 phòng|           NULL|     Hà Nội| VĂN QUÁN HÀ ĐÔNG...|                19/5|\n",
      "|    78 m²|10 tỷ 600 triệu|120724|Diện tích 4.1m x ...|28/09/2024|Sổ đỏ/ Sổ hồng|    Tân Phú|     3 phòng|        4 phòng|Hồ Chí Minh|Gia tôt Măt tiên ...|              Lê Sao|\n",
      "|    51 m²| 7 tỷ 900 triệu|120685|CHÍNH CHỦ CẦN BÁN...|27/09/2024|Sổ đỏ/ Sổ hồng|  Hoàng Mai|     4 phòng|        3 phòng|     Hà Nội|CHÍNH CHỦ CẦN BÁN...|           Hoàng Mai|\n",
      "|    44 m²|           4 tỷ|120641|SIÊU PHẨM 3 TẦNG ...|27/09/2024|Sổ đỏ/ Sổ hồng|   Bình Tân|     3 phòng|           NULL|Hồ Chí Minh|SIÊU PHẨM 3 TẦNG ...|               mã lò|\n",
      "|    82 m²|          23 tỷ|120606|Giảm 29 tỷ bán 23...|26/09/2024|Sổ đỏ/ Sổ hồng|    Quận 10|    11 phòng|       11 phòng|Hồ Chí Minh|BÁN LỖ KHÁCH SẠN ...|    Trần Thiện Chánh|\n",
      "|    58 m²|16 tỷ 800 triệu|120605|Bán Căn Hộ Dịch V...|26/09/2024|Sổ đỏ/ Sổ hồng|    Quận 10|    14 phòng|       15 phòng|Hồ Chí Minh|Bán Căn Hộ Dịch V...|       Lê Hồng Phong|\n",
      "|    68 m²| 7 tỷ 100 triệu|120607|Bán Nhà Âu Cơ Phư...|26/09/2024|Sổ đỏ/ Sổ hồng|   Tân Bình|     9 phòng|       10 phòng|Hồ Chí Minh|Bán Nhà Âu Cơ Phư...|               Âu Cơ|\n",
      "|    40 m²| 6 tỷ 200 triệu|120608|Bán nhà ngõ 20 Hồ...|26/09/2024|Sổ đỏ/ Sổ hồng|Bắc Từ Liêm|     4 phòng|        4 phòng|     Hà Nội|Bán nhà ngõ 82 TR...|           Trần Cung|\n",
      "+---------+---------------+------+--------------------+----------+--------------+-----------+------------+---------------+-----------+--------------------+--------------------+\n",
      "only showing top 20 rows\n",
      "\n"
     ]
    }
   ],
   "source": [
    "df.show()"
   ]
  },
  {
   "cell_type": "code",
   "execution_count": 55,
   "metadata": {},
   "outputs": [],
   "source": [
    "from pyspark.sql import functions as F\n",
    "\n",
    "def remove_text_pyspark(df, text_column):\n",
    "    # Loại bỏ tất cả ký tự không phải là chữ số\n",
    "    df = df.withColumn(text_column, F.regexp_replace(text_column, r'[^\\d]', ''))\n",
    "    return df\n",
    "df=remove_text_pyspark(df,'Diện_tích')\n",
    "df=remove_text_pyspark(df,'Số_phòng_ngủ')\n",
    "df=remove_text_pyspark(df,'Số_phòng_toilet')\n"
   ]
  },
  {
   "cell_type": "code",
   "execution_count": 56,
   "metadata": {},
   "outputs": [
    {
     "name": "stdout",
     "output_type": "stream",
     "text": [
      "Số hàng có giá trị không phải số trong cột 'Diện_tích': 0\n",
      "Số hàng có giá trị không phải số trong cột 'Số_phòng_ngủ': 0\n",
      "Số hàng có giá trị không phải số trong cột 'Số_phòng_toilet': 0\n"
     ]
    }
   ],
   "source": [
    "from pyspark.sql import functions as F\n",
    "\n",
    "# Lọc các hàng có giá trị không phải là số trong cột 'Diện_tích'\n",
    "non_numeric_dien_tich = df.filter(F.col('Diện_tích').rlike(r'[^\\d]'))\n",
    "\n",
    "# Lọc các hàng có giá trị không phải là số trong cột 'Số_phòng_ngủ'\n",
    "non_numeric_so_phong_ngu = df.filter(F.col('Số_phòng_ngủ').rlike(r'[^\\d]'))\n",
    "\n",
    "# Lọc các hàng có giá trị không phải là số trong cột 'Số_phòng_toilet'\n",
    "non_numeric_so_phong_toilet = df.filter(F.col('Số_phòng_toilet').rlike(r'[^\\d]'))\n",
    "\n",
    "# Đếm số lượng hàng chứa ký tự không phải số trong từng cột\n",
    "non_numeric_dien_tich_count = non_numeric_dien_tich.count()\n",
    "non_numeric_so_phong_ngu_count = non_numeric_so_phong_ngu.count()\n",
    "non_numeric_so_phong_toilet_count = non_numeric_so_phong_toilet.count()\n",
    "\n",
    "print(f\"Số hàng có giá trị không phải số trong cột 'Diện_tích': {non_numeric_dien_tich_count}\")\n",
    "print(f\"Số hàng có giá trị không phải số trong cột 'Số_phòng_ngủ': {non_numeric_so_phong_ngu_count}\")\n",
    "print(f\"Số hàng có giá trị không phải số trong cột 'Số_phòng_toilet': {non_numeric_so_phong_toilet_count}\")\n"
   ]
  },
  {
   "cell_type": "code",
   "execution_count": 57,
   "metadata": {},
   "outputs": [
    {
     "name": "stdout",
     "output_type": "stream",
     "text": [
      "+---------+---------------+------+--------------------+----------+--------------+-----------+------------+---------------+-----------+--------------------+--------------------+\n",
      "|Diện_tích|            Giá|Mã_tin|               Mô_tả| Ngày_đăng|       Pháp_lý|       Quận|Số_phòng_ngủ|Số_phòng_toilet|  Thành_phố|             Tiêu_đề|               Đường|\n",
      "+---------+---------------+------+--------------------+----------+--------------+-----------+------------+---------------+-----------+--------------------+--------------------+\n",
      "|      100|       10 triệu|121237|Thanh lý nhà Lý T...|05/10/2024|          NULL|   Cam Ranh|           2|              3|  Khánh Hòa|Thanh lý nhà Lý T...|Thanh lý nhà Lý T...|\n",
      "|      200|11 tỷ 090 triệu|121187| HIẾM DÃY TRỌ 1 X...|02/10/2024|Sổ đỏ/ Sổ hồng|     Gò Vấp|          15|             15|Hồ Chí Minh|BÁN GẤP DÃY NHÀ T...|         Quang Trung|\n",
      "|       56| 9 tỷ 950 triệu|121146|Bán nhà HXH hạ ch...|02/10/2024|Sổ đỏ/ Sổ hồng|  Hoàn Kiếm|           4|              5|     Hà Nội|Bán nhà HXH hạ ch...|       Trần Hưng Đạo|\n",
      "|       75|           2 tỷ|121107|B.án gấp căn CCMN...|01/10/2024|Sổ đỏ/ Sổ hồng| Thanh Xuân|           3|              2|     Hà Nội|bán gấp căn CCMN ...|           Giáp Nhất|\n",
      "|       45| 5 tỷ 800 triệu|121111|               Mô tả|02/10/2024|Sổ đỏ/ Sổ hồng| Bình Thạnh|           3|              3|Hồ Chí Minh|MẶT TIỀN KINH DOA...|                   1|\n",
      "|         |          45 tỷ|121070|Chính chủ bán nhà...|01/10/2024|Sổ đỏ/ Sổ hồng|     Quận 1|        NULL|           NULL|Hồ Chí Minh|Bán nhà Mặt tiền ...|             Đề Thám|\n",
      "|       55|           0000|121001|CHỦ CẦN TIỀN BÁN ...|01/10/2024|Sổ đỏ/ Sổ hồng|Bắc Từ Liêm|        NULL|           NULL|     Hà Nội|CHỦ CẦN TIỀN BÁN ...|            Phú Diễn|\n",
      "|       20| 5 tỷ 400 triệu|120961|               Mô tả|30/09/2024|Sổ đỏ/ Sổ hồng|    Quận 10|           2|              3|Hồ Chí Minh|NHÀ PHƯỜNG 12  HẺ...|       Tô Hiến Thành|\n",
      "|       60|      750 triệu|120917| Vị trí Mặt tiền ...|30/09/2024|Sổ đỏ/ Sổ hồng| Nhơn Trạch|        NULL|           NULL|   Đồng Nai|DUY NHẤT 1 CĂN MẶ...|          Võ Thị Sáu|\n",
      "|       63| 5 tỷ 890 triệu|120877|Nhà Đinh Bộ Lĩnh ...|30/09/2024|Sổ đỏ/ Sổ hồng| Bình Thạnh|           2|              2|Hồ Chí Minh|Nhà Đinh Bộ Lĩnh ...|        Đinh Bộ Lĩnh|\n",
      "|       88| 8 tỷ 500 triệu|120840|CHÍNH CHỦ CẦN B.Á...|29/09/2024|Sổ đỏ/ Sổ hồng|  Thanh Trì|           4|              4|     Hà Nội|CHÍNH CHỦ CẦN B.Á...|                   1|\n",
      "|       30|           6 tỷ|120805|BÁN NHÀ YÊN HÒA T...|28/09/2024|Sổ đỏ/ Sổ hồng|   Cầu Giấy|           3|              3|     Hà Nội|BÁN NHÀ YÊN HÒA  ...|             Yên Hòa|\n",
      "|       42| 9 tỷ 750 triệu|120772|LÔ GÓC  KINH DOAN...|28/09/2024|Sổ đỏ/ Sổ hồng|    Hà Đông|           3|           NULL|     Hà Nội| VĂN QUÁN HÀ ĐÔNG...|                19/5|\n",
      "|       78|10 tỷ 600 triệu|120724|Diện tích 4.1m x ...|28/09/2024|Sổ đỏ/ Sổ hồng|    Tân Phú|           3|              4|Hồ Chí Minh|Gia tôt Măt tiên ...|              Lê Sao|\n",
      "|       51| 7 tỷ 900 triệu|120685|CHÍNH CHỦ CẦN BÁN...|27/09/2024|Sổ đỏ/ Sổ hồng|  Hoàng Mai|           4|              3|     Hà Nội|CHÍNH CHỦ CẦN BÁN...|           Hoàng Mai|\n",
      "|       44|           4 tỷ|120641|SIÊU PHẨM 3 TẦNG ...|27/09/2024|Sổ đỏ/ Sổ hồng|   Bình Tân|           3|           NULL|Hồ Chí Minh|SIÊU PHẨM 3 TẦNG ...|               mã lò|\n",
      "|       82|          23 tỷ|120606|Giảm 29 tỷ bán 23...|26/09/2024|Sổ đỏ/ Sổ hồng|    Quận 10|          11|             11|Hồ Chí Minh|BÁN LỖ KHÁCH SẠN ...|    Trần Thiện Chánh|\n",
      "|       58|16 tỷ 800 triệu|120605|Bán Căn Hộ Dịch V...|26/09/2024|Sổ đỏ/ Sổ hồng|    Quận 10|          14|             15|Hồ Chí Minh|Bán Căn Hộ Dịch V...|       Lê Hồng Phong|\n",
      "|       68| 7 tỷ 100 triệu|120607|Bán Nhà Âu Cơ Phư...|26/09/2024|Sổ đỏ/ Sổ hồng|   Tân Bình|           9|             10|Hồ Chí Minh|Bán Nhà Âu Cơ Phư...|               Âu Cơ|\n",
      "|       40| 6 tỷ 200 triệu|120608|Bán nhà ngõ 20 Hồ...|26/09/2024|Sổ đỏ/ Sổ hồng|Bắc Từ Liêm|           4|              4|     Hà Nội|Bán nhà ngõ 82 TR...|           Trần Cung|\n",
      "+---------+---------------+------+--------------------+----------+--------------+-----------+------------+---------------+-----------+--------------------+--------------------+\n",
      "only showing top 20 rows\n",
      "\n"
     ]
    }
   ],
   "source": [
    "df.show()"
   ]
  },
  {
   "cell_type": "code",
   "execution_count": 58,
   "metadata": {},
   "outputs": [
    {
     "name": "stdout",
     "output_type": "stream",
     "text": [
      "root\n",
      " |-- Diện_tích: string (nullable = true)\n",
      " |-- Giá: string (nullable = true)\n",
      " |-- Mã_tin: string (nullable = true)\n",
      " |-- Mô_tả: string (nullable = true)\n",
      " |-- Ngày_đăng: string (nullable = true)\n",
      " |-- Pháp_lý: string (nullable = true)\n",
      " |-- Quận: string (nullable = true)\n",
      " |-- Số_phòng_ngủ: string (nullable = true)\n",
      " |-- Số_phòng_toilet: string (nullable = true)\n",
      " |-- Thành_phố: string (nullable = true)\n",
      " |-- Tiêu_đề: string (nullable = true)\n",
      " |-- Đường: string (nullable = true)\n",
      "\n"
     ]
    }
   ],
   "source": [
    "# Hiển thị schema sau khi xử lý\n",
    "df.printSchema()"
   ]
  },
  {
   "cell_type": "code",
   "execution_count": 59,
   "metadata": {},
   "outputs": [
    {
     "name": "stdout",
     "output_type": "stream",
     "text": [
      "+---------+-----------+------+--------------------+----------+--------------+-----------+------------+---------------+-----------+--------------------+--------------------+\n",
      "|Diện_tích|        Giá|Mã_tin|               Mô_tả| Ngày_đăng|       Pháp_lý|       Quận|Số_phòng_ngủ|Số_phòng_toilet|  Thành_phố|             Tiêu_đề|               Đường|\n",
      "+---------+-----------+------+--------------------+----------+--------------+-----------+------------+---------------+-----------+--------------------+--------------------+\n",
      "|      100|   10000000|121237|Thanh lý nhà Lý T...|05/10/2024|          NULL|   Cam Ranh|           2|              3|  Khánh Hòa|Thanh lý nhà Lý T...|Thanh lý nhà Lý T...|\n",
      "|      200|11090000000|121187| HIẾM DÃY TRỌ 1 X...|02/10/2024|Sổ đỏ/ Sổ hồng|     Gò Vấp|          15|             15|Hồ Chí Minh|BÁN GẤP DÃY NHÀ T...|         Quang Trung|\n",
      "|       56| 9950000000|121146|Bán nhà HXH hạ ch...|02/10/2024|Sổ đỏ/ Sổ hồng|  Hoàn Kiếm|           4|              5|     Hà Nội|Bán nhà HXH hạ ch...|       Trần Hưng Đạo|\n",
      "|       75| 2000000000|121107|B.án gấp căn CCMN...|01/10/2024|Sổ đỏ/ Sổ hồng| Thanh Xuân|           3|              2|     Hà Nội|bán gấp căn CCMN ...|           Giáp Nhất|\n",
      "|       45| 5800000000|121111|               Mô tả|02/10/2024|Sổ đỏ/ Sổ hồng| Bình Thạnh|           3|              3|Hồ Chí Minh|MẶT TIỀN KINH DOA...|                   1|\n",
      "|         |45000000000|121070|Chính chủ bán nhà...|01/10/2024|Sổ đỏ/ Sổ hồng|     Quận 1|        NULL|           NULL|Hồ Chí Minh|Bán nhà Mặt tiền ...|             Đề Thám|\n",
      "|       55|          0|121001|CHỦ CẦN TIỀN BÁN ...|01/10/2024|Sổ đỏ/ Sổ hồng|Bắc Từ Liêm|        NULL|           NULL|     Hà Nội|CHỦ CẦN TIỀN BÁN ...|            Phú Diễn|\n",
      "|       20| 5400000000|120961|               Mô tả|30/09/2024|Sổ đỏ/ Sổ hồng|    Quận 10|           2|              3|Hồ Chí Minh|NHÀ PHƯỜNG 12  HẺ...|       Tô Hiến Thành|\n",
      "|       60|  750000000|120917| Vị trí Mặt tiền ...|30/09/2024|Sổ đỏ/ Sổ hồng| Nhơn Trạch|        NULL|           NULL|   Đồng Nai|DUY NHẤT 1 CĂN MẶ...|          Võ Thị Sáu|\n",
      "|       63| 5890000000|120877|Nhà Đinh Bộ Lĩnh ...|30/09/2024|Sổ đỏ/ Sổ hồng| Bình Thạnh|           2|              2|Hồ Chí Minh|Nhà Đinh Bộ Lĩnh ...|        Đinh Bộ Lĩnh|\n",
      "|       88| 8500000000|120840|CHÍNH CHỦ CẦN B.Á...|29/09/2024|Sổ đỏ/ Sổ hồng|  Thanh Trì|           4|              4|     Hà Nội|CHÍNH CHỦ CẦN B.Á...|                   1|\n",
      "|       30| 6000000000|120805|BÁN NHÀ YÊN HÒA T...|28/09/2024|Sổ đỏ/ Sổ hồng|   Cầu Giấy|           3|              3|     Hà Nội|BÁN NHÀ YÊN HÒA  ...|             Yên Hòa|\n",
      "|       42| 9750000000|120772|LÔ GÓC  KINH DOAN...|28/09/2024|Sổ đỏ/ Sổ hồng|    Hà Đông|           3|           NULL|     Hà Nội| VĂN QUÁN HÀ ĐÔNG...|                19/5|\n",
      "|       78|10600000000|120724|Diện tích 4.1m x ...|28/09/2024|Sổ đỏ/ Sổ hồng|    Tân Phú|           3|              4|Hồ Chí Minh|Gia tôt Măt tiên ...|              Lê Sao|\n",
      "|       51| 7900000000|120685|CHÍNH CHỦ CẦN BÁN...|27/09/2024|Sổ đỏ/ Sổ hồng|  Hoàng Mai|           4|              3|     Hà Nội|CHÍNH CHỦ CẦN BÁN...|           Hoàng Mai|\n",
      "|       44| 4000000000|120641|SIÊU PHẨM 3 TẦNG ...|27/09/2024|Sổ đỏ/ Sổ hồng|   Bình Tân|           3|           NULL|Hồ Chí Minh|SIÊU PHẨM 3 TẦNG ...|               mã lò|\n",
      "|       82|23000000000|120606|Giảm 29 tỷ bán 23...|26/09/2024|Sổ đỏ/ Sổ hồng|    Quận 10|          11|             11|Hồ Chí Minh|BÁN LỖ KHÁCH SẠN ...|    Trần Thiện Chánh|\n",
      "|       58|16800000000|120605|Bán Căn Hộ Dịch V...|26/09/2024|Sổ đỏ/ Sổ hồng|    Quận 10|          14|             15|Hồ Chí Minh|Bán Căn Hộ Dịch V...|       Lê Hồng Phong|\n",
      "|       68| 7100000000|120607|Bán Nhà Âu Cơ Phư...|26/09/2024|Sổ đỏ/ Sổ hồng|   Tân Bình|           9|             10|Hồ Chí Minh|Bán Nhà Âu Cơ Phư...|               Âu Cơ|\n",
      "|       40| 6200000000|120608|Bán nhà ngõ 20 Hồ...|26/09/2024|Sổ đỏ/ Sổ hồng|Bắc Từ Liêm|           4|              4|     Hà Nội|Bán nhà ngõ 82 TR...|           Trần Cung|\n",
      "+---------+-----------+------+--------------------+----------+--------------+-----------+------------+---------------+-----------+--------------------+--------------------+\n",
      "only showing top 20 rows\n",
      "\n"
     ]
    }
   ],
   "source": [
    "from pyspark.sql import functions as F\n",
    "from pyspark.sql.types import LongType\n",
    "\n",
    "# Định nghĩa hàm xử lý giá\n",
    "def xu_ly_gia(price_str):\n",
    "    if price_str is None:  # Kiểm tra giá trị None\n",
    "        return 0  # Hoặc bạn có thể trả về một giá trị khác nếu cần\n",
    "\n",
    "    units = {\n",
    "        'tỷ': 1000000000,\n",
    "        'triệu': 1000000,\n",
    "        'nghìn': 1000,\n",
    "    }\n",
    "\n",
    "    total = 0\n",
    "    current_value = 0\n",
    "    parts = price_str.split()\n",
    "    \n",
    "    for part in parts:\n",
    "        if part in units:\n",
    "            total += current_value * units[part]\n",
    "            current_value = 0\n",
    "        else:\n",
    "            try:\n",
    "                current_value = int(part)\n",
    "            except ValueError:\n",
    "                current_value = 0  # Trường hợp không thể chuyển đổi\n",
    "    total += current_value\n",
    "    return total\n",
    "\n",
    "# Chuyển hàm Python thành UDF trong PySpark\n",
    "xu_ly_gia_udf = F.udf(xu_ly_gia, LongType())  # Sử dụng LongType để tương thích\n",
    "\n",
    "# Áp dụng UDF lên cột 'Giá' trong DataFrame và thay đổi cột 'Giá'\n",
    "df = df.withColumn('Giá', xu_ly_gia_udf(F.col('Giá')))\n",
    "\n",
    "# Hiển thị DataFrame sau khi chuyển đổi\n",
    "df.show()\n"
   ]
  },
  {
   "cell_type": "code",
   "execution_count": 60,
   "metadata": {},
   "outputs": [
    {
     "name": "stdout",
     "output_type": "stream",
     "text": [
      "root\n",
      " |-- Diện_tích: float (nullable = true)\n",
      " |-- Giá: long (nullable = true)\n",
      " |-- Mã_tin: string (nullable = true)\n",
      " |-- Mô_tả: string (nullable = true)\n",
      " |-- Ngày_đăng: date (nullable = true)\n",
      " |-- Pháp_lý: string (nullable = true)\n",
      " |-- Quận: string (nullable = true)\n",
      " |-- Số_phòng_ngủ: integer (nullable = true)\n",
      " |-- Số_phòng_toilet: integer (nullable = true)\n",
      " |-- Thành_phố: string (nullable = true)\n",
      " |-- Tiêu_đề: string (nullable = true)\n",
      " |-- Đường: string (nullable = true)\n",
      "\n",
      "+---------+-----------+------+--------------------+----------+--------------+-----------+------------+---------------+-----------+--------------------+--------------------+\n",
      "|Diện_tích|        Giá|Mã_tin|               Mô_tả| Ngày_đăng|       Pháp_lý|       Quận|Số_phòng_ngủ|Số_phòng_toilet|  Thành_phố|             Tiêu_đề|               Đường|\n",
      "+---------+-----------+------+--------------------+----------+--------------+-----------+------------+---------------+-----------+--------------------+--------------------+\n",
      "|    100.0|   10000000|121237|Thanh lý nhà Lý T...|2024-10-05|          NULL|   Cam Ranh|           2|              3|  Khánh Hòa|Thanh lý nhà Lý T...|Thanh lý nhà Lý T...|\n",
      "|    200.0|11090000000|121187| HIẾM DÃY TRỌ 1 X...|2024-10-02|Sổ đỏ/ Sổ hồng|     Gò Vấp|          15|             15|Hồ Chí Minh|BÁN GẤP DÃY NHÀ T...|         Quang Trung|\n",
      "|     56.0| 9950000000|121146|Bán nhà HXH hạ ch...|2024-10-02|Sổ đỏ/ Sổ hồng|  Hoàn Kiếm|           4|              5|     Hà Nội|Bán nhà HXH hạ ch...|       Trần Hưng Đạo|\n",
      "|     75.0| 2000000000|121107|B.án gấp căn CCMN...|2024-10-01|Sổ đỏ/ Sổ hồng| Thanh Xuân|           3|              2|     Hà Nội|bán gấp căn CCMN ...|           Giáp Nhất|\n",
      "|     45.0| 5800000000|121111|               Mô tả|2024-10-02|Sổ đỏ/ Sổ hồng| Bình Thạnh|           3|              3|Hồ Chí Minh|MẶT TIỀN KINH DOA...|                   1|\n",
      "|     NULL|45000000000|121070|Chính chủ bán nhà...|2024-10-01|Sổ đỏ/ Sổ hồng|     Quận 1|        NULL|           NULL|Hồ Chí Minh|Bán nhà Mặt tiền ...|             Đề Thám|\n",
      "|     55.0|          0|121001|CHỦ CẦN TIỀN BÁN ...|2024-10-01|Sổ đỏ/ Sổ hồng|Bắc Từ Liêm|        NULL|           NULL|     Hà Nội|CHỦ CẦN TIỀN BÁN ...|            Phú Diễn|\n",
      "|     20.0| 5400000000|120961|               Mô tả|2024-09-30|Sổ đỏ/ Sổ hồng|    Quận 10|           2|              3|Hồ Chí Minh|NHÀ PHƯỜNG 12  HẺ...|       Tô Hiến Thành|\n",
      "|     60.0|  750000000|120917| Vị trí Mặt tiền ...|2024-09-30|Sổ đỏ/ Sổ hồng| Nhơn Trạch|        NULL|           NULL|   Đồng Nai|DUY NHẤT 1 CĂN MẶ...|          Võ Thị Sáu|\n",
      "|     63.0| 5890000000|120877|Nhà Đinh Bộ Lĩnh ...|2024-09-30|Sổ đỏ/ Sổ hồng| Bình Thạnh|           2|              2|Hồ Chí Minh|Nhà Đinh Bộ Lĩnh ...|        Đinh Bộ Lĩnh|\n",
      "|     88.0| 8500000000|120840|CHÍNH CHỦ CẦN B.Á...|2024-09-29|Sổ đỏ/ Sổ hồng|  Thanh Trì|           4|              4|     Hà Nội|CHÍNH CHỦ CẦN B.Á...|                   1|\n",
      "|     30.0| 6000000000|120805|BÁN NHÀ YÊN HÒA T...|2024-09-28|Sổ đỏ/ Sổ hồng|   Cầu Giấy|           3|              3|     Hà Nội|BÁN NHÀ YÊN HÒA  ...|             Yên Hòa|\n",
      "|     42.0| 9750000000|120772|LÔ GÓC  KINH DOAN...|2024-09-28|Sổ đỏ/ Sổ hồng|    Hà Đông|           3|           NULL|     Hà Nội| VĂN QUÁN HÀ ĐÔNG...|                19/5|\n",
      "|     78.0|10600000000|120724|Diện tích 4.1m x ...|2024-09-28|Sổ đỏ/ Sổ hồng|    Tân Phú|           3|              4|Hồ Chí Minh|Gia tôt Măt tiên ...|              Lê Sao|\n",
      "|     51.0| 7900000000|120685|CHÍNH CHỦ CẦN BÁN...|2024-09-27|Sổ đỏ/ Sổ hồng|  Hoàng Mai|           4|              3|     Hà Nội|CHÍNH CHỦ CẦN BÁN...|           Hoàng Mai|\n",
      "|     44.0| 4000000000|120641|SIÊU PHẨM 3 TẦNG ...|2024-09-27|Sổ đỏ/ Sổ hồng|   Bình Tân|           3|           NULL|Hồ Chí Minh|SIÊU PHẨM 3 TẦNG ...|               mã lò|\n",
      "|     82.0|23000000000|120606|Giảm 29 tỷ bán 23...|2024-09-26|Sổ đỏ/ Sổ hồng|    Quận 10|          11|             11|Hồ Chí Minh|BÁN LỖ KHÁCH SẠN ...|    Trần Thiện Chánh|\n",
      "|     58.0|16800000000|120605|Bán Căn Hộ Dịch V...|2024-09-26|Sổ đỏ/ Sổ hồng|    Quận 10|          14|             15|Hồ Chí Minh|Bán Căn Hộ Dịch V...|       Lê Hồng Phong|\n",
      "|     68.0| 7100000000|120607|Bán Nhà Âu Cơ Phư...|2024-09-26|Sổ đỏ/ Sổ hồng|   Tân Bình|           9|             10|Hồ Chí Minh|Bán Nhà Âu Cơ Phư...|               Âu Cơ|\n",
      "|     40.0| 6200000000|120608|Bán nhà ngõ 20 Hồ...|2024-09-26|Sổ đỏ/ Sổ hồng|Bắc Từ Liêm|           4|              4|     Hà Nội|Bán nhà ngõ 82 TR...|           Trần Cung|\n",
      "+---------+-----------+------+--------------------+----------+--------------+-----------+------------+---------------+-----------+--------------------+--------------------+\n",
      "only showing top 20 rows\n",
      "\n"
     ]
    }
   ],
   "source": [
    "from pyspark.sql.functions import col, to_date\n",
    "from pyspark.sql.types import IntegerType, FloatType, LongType\n",
    "\n",
    "# Chuyển đổi kiểu dữ liệu\n",
    "df = df.withColumn(\"Diện_tích\", col(\"Diện_tích\").cast(FloatType())) \\\n",
    "       .withColumn(\"Giá\", col(\"Giá\").cast(LongType()))\\\n",
    "       .withColumn(\"Số_phòng_ngủ\", col(\"Số_phòng_ngủ\").cast(IntegerType())) \\\n",
    "       .withColumn(\"Số_phòng_toilet\", col(\"Số_phòng_toilet\").cast(IntegerType())) \\\n",
    "       .withColumn(\"Ngày_đăng\", to_date(col(\"Ngày_đăng\"), \"dd/MM/yyyy\"))\n",
    "\n",
    "# Hiển thị schema sau khi xử lý\n",
    "df.printSchema()\n",
    "\n",
    "# Hiển thị dữ liệu sau khi xử lý\n",
    "df.show()\n"
   ]
  },
  {
   "cell_type": "code",
   "execution_count": 61,
   "metadata": {},
   "outputs": [
    {
     "name": "stdout",
     "output_type": "stream",
     "text": [
      "+----------------+\n",
      "|Pháp_lý         |\n",
      "+----------------+\n",
      "|Hợp đồng mua bán|\n",
      "|Sổ đỏ/ Sổ hồng  |\n",
      "|NULL            |\n",
      "+----------------+\n",
      "\n"
     ]
    }
   ],
   "source": [
    "# Lấy các giá trị khác nhau trong cột 'Pháp_lý'\n",
    "distinct_phap_ly_values = df.select('Pháp_lý').distinct()\n",
    "\n",
    "# Hiển thị các giá trị khác nhau\n",
    "distinct_phap_ly_values.show(truncate=False)\n"
   ]
  },
  {
   "cell_type": "code",
   "execution_count": 62,
   "metadata": {},
   "outputs": [],
   "source": [
    "from pyspark.sql import functions as F\n",
    "\n",
    "# Tích hợp phần trước ký tự '/' trong cột 'Pháp_lý'\n",
    "df = df.withColumn('Pháp_lý', F.split(F.col('Pháp_lý'), '/').getItem(0))\n"
   ]
  },
  {
   "cell_type": "code",
   "execution_count": 63,
   "metadata": {},
   "outputs": [
    {
     "name": "stdout",
     "output_type": "stream",
     "text": [
      "+----------------+\n",
      "|Pháp_lý         |\n",
      "+----------------+\n",
      "|Hợp đồng mua bán|\n",
      "|Sổ đỏ           |\n",
      "|NULL            |\n",
      "+----------------+\n",
      "\n"
     ]
    }
   ],
   "source": [
    "# kiểm tra lại \n",
    "# Lấy các giá trị khác nhau trong cột 'Pháp_lý'\n",
    "distinct_phap_ly_values = df.select('Pháp_lý').distinct()\n",
    "\n",
    "# Hiển thị các giá trị khác nhau\n",
    "distinct_phap_ly_values.show(truncate=False)\n"
   ]
  },
  {
   "cell_type": "code",
   "execution_count": 64,
   "metadata": {},
   "outputs": [
    {
     "name": "stdout",
     "output_type": "stream",
     "text": [
      "+---------+-----------+------+--------------------+----------+-------+-----------+------------+---------------+-----------+--------------------+--------------------+\n",
      "|Diện_tích|        Giá|Mã_tin|               Mô_tả| Ngày_đăng|Pháp_lý|       Quận|Số_phòng_ngủ|Số_phòng_toilet|  Thành_phố|             Tiêu_đề|               Đường|\n",
      "+---------+-----------+------+--------------------+----------+-------+-----------+------------+---------------+-----------+--------------------+--------------------+\n",
      "|    100.0|   10000000|121237|Thanh lý nhà Lý T...|2024-10-05|   NULL|   Cam Ranh|           2|              3|  Khánh Hòa|Thanh lý nhà Lý T...|Thanh lý nhà Lý T...|\n",
      "|    200.0|11090000000|121187| HIẾM DÃY TRỌ 1 X...|2024-10-02|  Sổ đỏ|     Gò Vấp|          15|             15|Hồ Chí Minh|BÁN GẤP DÃY NHÀ T...|         Quang Trung|\n",
      "|     56.0| 9950000000|121146|Bán nhà HXH hạ ch...|2024-10-02|  Sổ đỏ|  Hoàn Kiếm|           4|              5|     Hà Nội|Bán nhà HXH hạ ch...|       Trần Hưng Đạo|\n",
      "|     75.0| 2000000000|121107|B.án gấp căn CCMN...|2024-10-01|  Sổ đỏ| Thanh Xuân|           3|              2|     Hà Nội|bán gấp căn CCMN ...|           Giáp Nhất|\n",
      "|     45.0| 5800000000|121111|               Mô tả|2024-10-02|  Sổ đỏ| Bình Thạnh|           3|              3|Hồ Chí Minh|MẶT TIỀN KINH DOA...|                   1|\n",
      "|     NULL|45000000000|121070|Chính chủ bán nhà...|2024-10-01|  Sổ đỏ|     Quận 1|        NULL|           NULL|Hồ Chí Minh|Bán nhà Mặt tiền ...|             Đề Thám|\n",
      "|     55.0|          0|121001|CHỦ CẦN TIỀN BÁN ...|2024-10-01|  Sổ đỏ|Bắc Từ Liêm|        NULL|           NULL|     Hà Nội|CHỦ CẦN TIỀN BÁN ...|            Phú Diễn|\n",
      "|     20.0| 5400000000|120961|               Mô tả|2024-09-30|  Sổ đỏ|    Quận 10|           2|              3|Hồ Chí Minh|NHÀ PHƯỜNG 12  HẺ...|       Tô Hiến Thành|\n",
      "|     60.0|  750000000|120917| Vị trí Mặt tiền ...|2024-09-30|  Sổ đỏ| Nhơn Trạch|        NULL|           NULL|   Đồng Nai|DUY NHẤT 1 CĂN MẶ...|          Võ Thị Sáu|\n",
      "|     63.0| 5890000000|120877|Nhà Đinh Bộ Lĩnh ...|2024-09-30|  Sổ đỏ| Bình Thạnh|           2|              2|Hồ Chí Minh|Nhà Đinh Bộ Lĩnh ...|        Đinh Bộ Lĩnh|\n",
      "|     88.0| 8500000000|120840|CHÍNH CHỦ CẦN B.Á...|2024-09-29|  Sổ đỏ|  Thanh Trì|           4|              4|     Hà Nội|CHÍNH CHỦ CẦN B.Á...|                   1|\n",
      "|     30.0| 6000000000|120805|BÁN NHÀ YÊN HÒA T...|2024-09-28|  Sổ đỏ|   Cầu Giấy|           3|              3|     Hà Nội|BÁN NHÀ YÊN HÒA  ...|             Yên Hòa|\n",
      "|     42.0| 9750000000|120772|LÔ GÓC  KINH DOAN...|2024-09-28|  Sổ đỏ|    Hà Đông|           3|           NULL|     Hà Nội| VĂN QUÁN HÀ ĐÔNG...|                19/5|\n",
      "|     78.0|10600000000|120724|Diện tích 4.1m x ...|2024-09-28|  Sổ đỏ|    Tân Phú|           3|              4|Hồ Chí Minh|Gia tôt Măt tiên ...|              Lê Sao|\n",
      "|     51.0| 7900000000|120685|CHÍNH CHỦ CẦN BÁN...|2024-09-27|  Sổ đỏ|  Hoàng Mai|           4|              3|     Hà Nội|CHÍNH CHỦ CẦN BÁN...|           Hoàng Mai|\n",
      "|     44.0| 4000000000|120641|SIÊU PHẨM 3 TẦNG ...|2024-09-27|  Sổ đỏ|   Bình Tân|           3|           NULL|Hồ Chí Minh|SIÊU PHẨM 3 TẦNG ...|               mã lò|\n",
      "|     82.0|23000000000|120606|Giảm 29 tỷ bán 23...|2024-09-26|  Sổ đỏ|    Quận 10|          11|             11|Hồ Chí Minh|BÁN LỖ KHÁCH SẠN ...|    Trần Thiện Chánh|\n",
      "|     58.0|16800000000|120605|Bán Căn Hộ Dịch V...|2024-09-26|  Sổ đỏ|    Quận 10|          14|             15|Hồ Chí Minh|Bán Căn Hộ Dịch V...|       Lê Hồng Phong|\n",
      "|     68.0| 7100000000|120607|Bán Nhà Âu Cơ Phư...|2024-09-26|  Sổ đỏ|   Tân Bình|           9|             10|Hồ Chí Minh|Bán Nhà Âu Cơ Phư...|               Âu Cơ|\n",
      "|     40.0| 6200000000|120608|Bán nhà ngõ 20 Hồ...|2024-09-26|  Sổ đỏ|Bắc Từ Liêm|           4|              4|     Hà Nội|Bán nhà ngõ 82 TR...|           Trần Cung|\n",
      "+---------+-----------+------+--------------------+----------+-------+-----------+------------+---------------+-----------+--------------------+--------------------+\n",
      "only showing top 20 rows\n",
      "\n"
     ]
    }
   ],
   "source": [
    "# Hiển thị DataFrame sau khi thực hiện\n",
    "df.show()"
   ]
  },
  {
   "cell_type": "code",
   "execution_count": 65,
   "metadata": {},
   "outputs": [
    {
     "data": {
      "text/plain": [
       "['Diện_tích',\n",
       " 'Giá',\n",
       " 'Mã_tin',\n",
       " 'Mô_tả',\n",
       " 'Ngày_đăng',\n",
       " 'Pháp_lý',\n",
       " 'Quận',\n",
       " 'Số_phòng_ngủ',\n",
       " 'Số_phòng_toilet',\n",
       " 'Thành_phố',\n",
       " 'Tiêu_đề',\n",
       " 'Đường']"
      ]
     },
     "execution_count": 65,
     "metadata": {},
     "output_type": "execute_result"
    }
   ],
   "source": [
    "df.columns"
   ]
  },
  {
   "cell_type": "code",
   "execution_count": 66,
   "metadata": {},
   "outputs": [
    {
     "name": "stdout",
     "output_type": "stream",
     "text": [
      "Số giá trị null trong cột 'Diện_tích': 32\n",
      "Số giá trị null trong cột 'Giá': 0\n",
      "Số giá trị null trong cột 'Mã_tin': 0\n",
      "Số giá trị null trong cột 'Mô_tả': 0\n",
      "Số giá trị null trong cột 'Ngày_đăng': 0\n",
      "Số giá trị null trong cột 'Pháp_lý': 10\n",
      "Số giá trị null trong cột 'Quận': 0\n",
      "Số giá trị null trong cột 'Số_phòng_ngủ': 138\n",
      "Số giá trị null trong cột 'Số_phòng_toilet': 191\n",
      "Số giá trị null trong cột 'Thành_phố': 0\n",
      "Số giá trị null trong cột 'Tiêu_đề': 0\n",
      "Số giá trị null trong cột 'Đường': 0\n"
     ]
    }
   ],
   "source": [
    "# Tạo danh sách các cột kiểm tra giá trị null để dễ dàng xử lý\n",
    "columns_to_check = ['Diện_tích', 'Giá', 'Mã_tin', 'Mô_tả', 'Ngày_đăng', 'Pháp_lý', 'Quận', 'Số_phòng_ngủ', 'Số_phòng_toilet', 'Thành_phố', 'Tiêu_đề', 'Đường']\n",
    "\n",
    "# Lặp qua từng cột và đếm số giá trị null\n",
    "for col in columns_to_check:\n",
    "    null_count = df.filter(F.col(col).isNull()).count()  # Đếm số giá trị null trong cột\n",
    "    print(f\"Số giá trị null trong cột '{col}': {null_count}\")\n"
   ]
  },
  {
   "cell_type": "code",
   "execution_count": 67,
   "metadata": {},
   "outputs": [
    {
     "name": "stdout",
     "output_type": "stream",
     "text": [
      "Kích thước của DataFrame: 1008 hàng và 12 cột\n"
     ]
    }
   ],
   "source": [
    "num_rows = df.count()\n",
    "num_columns = len(df.columns)\n",
    "print(f\"Kích thước của DataFrame: {num_rows} hàng và {num_columns} cột\")\n"
   ]
  },
  {
   "cell_type": "code",
   "execution_count": 68,
   "metadata": {},
   "outputs": [
    {
     "name": "stdout",
     "output_type": "stream",
     "text": [
      "+---------+-----------+------+--------------------+----------+-------+-----------+------------+---------------+-----------+--------------------+--------------------+\n",
      "|Diện_tích|        Giá|Mã_tin|               Mô_tả| Ngày_đăng|Pháp_lý|       Quận|Số_phòng_ngủ|Số_phòng_toilet|  Thành_phố|             Tiêu_đề|               Đường|\n",
      "+---------+-----------+------+--------------------+----------+-------+-----------+------------+---------------+-----------+--------------------+--------------------+\n",
      "|    100.0|   10000000|121237|Thanh lý nhà Lý T...|2024-10-05|   NULL|   Cam Ranh|           2|              3|  Khánh Hòa|Thanh lý nhà Lý T...|Thanh lý nhà Lý T...|\n",
      "|    200.0|11090000000|121187| HIẾM DÃY TRỌ 1 X...|2024-10-02|  Sổ đỏ|     Gò Vấp|          15|             15|Hồ Chí Minh|BÁN GẤP DÃY NHÀ T...|         Quang Trung|\n",
      "|     56.0| 9950000000|121146|Bán nhà HXH hạ ch...|2024-10-02|  Sổ đỏ|  Hoàn Kiếm|           4|              5|     Hà Nội|Bán nhà HXH hạ ch...|       Trần Hưng Đạo|\n",
      "|     75.0| 2000000000|121107|B.án gấp căn CCMN...|2024-10-01|  Sổ đỏ| Thanh Xuân|           3|              2|     Hà Nội|bán gấp căn CCMN ...|           Giáp Nhất|\n",
      "|     45.0| 5800000000|121111|               Mô tả|2024-10-02|  Sổ đỏ| Bình Thạnh|           3|              3|Hồ Chí Minh|MẶT TIỀN KINH DOA...|                   1|\n",
      "|     56.0|45000000000|121070|Chính chủ bán nhà...|2024-10-01|  Sổ đỏ|     Quận 1|        NULL|           NULL|Hồ Chí Minh|Bán nhà Mặt tiền ...|             Đề Thám|\n",
      "|     55.0|          0|121001|CHỦ CẦN TIỀN BÁN ...|2024-10-01|  Sổ đỏ|Bắc Từ Liêm|        NULL|           NULL|     Hà Nội|CHỦ CẦN TIỀN BÁN ...|            Phú Diễn|\n",
      "|     20.0| 5400000000|120961|               Mô tả|2024-09-30|  Sổ đỏ|    Quận 10|           2|              3|Hồ Chí Minh|NHÀ PHƯỜNG 12  HẺ...|       Tô Hiến Thành|\n",
      "|     60.0|  750000000|120917| Vị trí Mặt tiền ...|2024-09-30|  Sổ đỏ| Nhơn Trạch|        NULL|           NULL|   Đồng Nai|DUY NHẤT 1 CĂN MẶ...|          Võ Thị Sáu|\n",
      "|     63.0| 5890000000|120877|Nhà Đinh Bộ Lĩnh ...|2024-09-30|  Sổ đỏ| Bình Thạnh|           2|              2|Hồ Chí Minh|Nhà Đinh Bộ Lĩnh ...|        Đinh Bộ Lĩnh|\n",
      "|     88.0| 8500000000|120840|CHÍNH CHỦ CẦN B.Á...|2024-09-29|  Sổ đỏ|  Thanh Trì|           4|              4|     Hà Nội|CHÍNH CHỦ CẦN B.Á...|                   1|\n",
      "|     30.0| 6000000000|120805|BÁN NHÀ YÊN HÒA T...|2024-09-28|  Sổ đỏ|   Cầu Giấy|           3|              3|     Hà Nội|BÁN NHÀ YÊN HÒA  ...|             Yên Hòa|\n",
      "|     42.0| 9750000000|120772|LÔ GÓC  KINH DOAN...|2024-09-28|  Sổ đỏ|    Hà Đông|           3|           NULL|     Hà Nội| VĂN QUÁN HÀ ĐÔNG...|                19/5|\n",
      "|     78.0|10600000000|120724|Diện tích 4.1m x ...|2024-09-28|  Sổ đỏ|    Tân Phú|           3|              4|Hồ Chí Minh|Gia tôt Măt tiên ...|              Lê Sao|\n",
      "|     51.0| 7900000000|120685|CHÍNH CHỦ CẦN BÁN...|2024-09-27|  Sổ đỏ|  Hoàng Mai|           4|              3|     Hà Nội|CHÍNH CHỦ CẦN BÁN...|           Hoàng Mai|\n",
      "|     44.0| 4000000000|120641|SIÊU PHẨM 3 TẦNG ...|2024-09-27|  Sổ đỏ|   Bình Tân|           3|           NULL|Hồ Chí Minh|SIÊU PHẨM 3 TẦNG ...|               mã lò|\n",
      "|     82.0|23000000000|120606|Giảm 29 tỷ bán 23...|2024-09-26|  Sổ đỏ|    Quận 10|          11|             11|Hồ Chí Minh|BÁN LỖ KHÁCH SẠN ...|    Trần Thiện Chánh|\n",
      "|     58.0|16800000000|120605|Bán Căn Hộ Dịch V...|2024-09-26|  Sổ đỏ|    Quận 10|          14|             15|Hồ Chí Minh|Bán Căn Hộ Dịch V...|       Lê Hồng Phong|\n",
      "|     68.0| 7100000000|120607|Bán Nhà Âu Cơ Phư...|2024-09-26|  Sổ đỏ|   Tân Bình|           9|             10|Hồ Chí Minh|Bán Nhà Âu Cơ Phư...|               Âu Cơ|\n",
      "|     40.0| 6200000000|120608|Bán nhà ngõ 20 Hồ...|2024-09-26|  Sổ đỏ|Bắc Từ Liêm|           4|              4|     Hà Nội|Bán nhà ngõ 82 TR...|           Trần Cung|\n",
      "+---------+-----------+------+--------------------+----------+-------+-----------+------------+---------------+-----------+--------------------+--------------------+\n",
      "only showing top 20 rows\n",
      "\n"
     ]
    }
   ],
   "source": [
    "# Xử Lý giá trị null cột Diện_tích\n",
    "# Thay thế NULL bằng giá trị trung vị\n",
    "median_area = df.approxQuantile(\"Diện_tích\", [0.5], 0)[0]\n",
    "df = df.fillna({\"Diện_tích\": median_area})\n",
    "\n",
    "df.show()"
   ]
  },
  {
   "cell_type": "code",
   "execution_count": 69,
   "metadata": {},
   "outputs": [
    {
     "name": "stdout",
     "output_type": "stream",
     "text": [
      "+---------+-----------+------+--------------------+----------+-------+-----------+------------+---------------+-----------+--------------------+--------------------+\n",
      "|Diện_tích|        Giá|Mã_tin|               Mô_tả| Ngày_đăng|Pháp_lý|       Quận|Số_phòng_ngủ|Số_phòng_toilet|  Thành_phố|             Tiêu_đề|               Đường|\n",
      "+---------+-----------+------+--------------------+----------+-------+-----------+------------+---------------+-----------+--------------------+--------------------+\n",
      "|    100.0|   10000000|121237|Thanh lý nhà Lý T...|2024-10-05|   NULL|   Cam Ranh|           2|              3|  Khánh Hòa|Thanh lý nhà Lý T...|Thanh lý nhà Lý T...|\n",
      "|    200.0|11090000000|121187| HIẾM DÃY TRỌ 1 X...|2024-10-02|  Sổ đỏ|     Gò Vấp|          15|             15|Hồ Chí Minh|BÁN GẤP DÃY NHÀ T...|         Quang Trung|\n",
      "|     56.0| 9950000000|121146|Bán nhà HXH hạ ch...|2024-10-02|  Sổ đỏ|  Hoàn Kiếm|           4|              5|     Hà Nội|Bán nhà HXH hạ ch...|       Trần Hưng Đạo|\n",
      "|     75.0| 2000000000|121107|B.án gấp căn CCMN...|2024-10-01|  Sổ đỏ| Thanh Xuân|           3|              2|     Hà Nội|bán gấp căn CCMN ...|           Giáp Nhất|\n",
      "|     45.0| 5800000000|121111|               Mô tả|2024-10-02|  Sổ đỏ| Bình Thạnh|           3|              3|Hồ Chí Minh|MẶT TIỀN KINH DOA...|                   1|\n",
      "|     56.0|45000000000|121070|Chính chủ bán nhà...|2024-10-01|  Sổ đỏ|     Quận 1|           0|              0|Hồ Chí Minh|Bán nhà Mặt tiền ...|             Đề Thám|\n",
      "|     55.0|          0|121001|CHỦ CẦN TIỀN BÁN ...|2024-10-01|  Sổ đỏ|Bắc Từ Liêm|           0|              0|     Hà Nội|CHỦ CẦN TIỀN BÁN ...|            Phú Diễn|\n",
      "|     20.0| 5400000000|120961|               Mô tả|2024-09-30|  Sổ đỏ|    Quận 10|           2|              3|Hồ Chí Minh|NHÀ PHƯỜNG 12  HẺ...|       Tô Hiến Thành|\n",
      "|     60.0|  750000000|120917| Vị trí Mặt tiền ...|2024-09-30|  Sổ đỏ| Nhơn Trạch|           0|              0|   Đồng Nai|DUY NHẤT 1 CĂN MẶ...|          Võ Thị Sáu|\n",
      "|     63.0| 5890000000|120877|Nhà Đinh Bộ Lĩnh ...|2024-09-30|  Sổ đỏ| Bình Thạnh|           2|              2|Hồ Chí Minh|Nhà Đinh Bộ Lĩnh ...|        Đinh Bộ Lĩnh|\n",
      "|     88.0| 8500000000|120840|CHÍNH CHỦ CẦN B.Á...|2024-09-29|  Sổ đỏ|  Thanh Trì|           4|              4|     Hà Nội|CHÍNH CHỦ CẦN B.Á...|                   1|\n",
      "|     30.0| 6000000000|120805|BÁN NHÀ YÊN HÒA T...|2024-09-28|  Sổ đỏ|   Cầu Giấy|           3|              3|     Hà Nội|BÁN NHÀ YÊN HÒA  ...|             Yên Hòa|\n",
      "|     42.0| 9750000000|120772|LÔ GÓC  KINH DOAN...|2024-09-28|  Sổ đỏ|    Hà Đông|           3|              0|     Hà Nội| VĂN QUÁN HÀ ĐÔNG...|                19/5|\n",
      "|     78.0|10600000000|120724|Diện tích 4.1m x ...|2024-09-28|  Sổ đỏ|    Tân Phú|           3|              4|Hồ Chí Minh|Gia tôt Măt tiên ...|              Lê Sao|\n",
      "|     51.0| 7900000000|120685|CHÍNH CHỦ CẦN BÁN...|2024-09-27|  Sổ đỏ|  Hoàng Mai|           4|              3|     Hà Nội|CHÍNH CHỦ CẦN BÁN...|           Hoàng Mai|\n",
      "|     44.0| 4000000000|120641|SIÊU PHẨM 3 TẦNG ...|2024-09-27|  Sổ đỏ|   Bình Tân|           3|              0|Hồ Chí Minh|SIÊU PHẨM 3 TẦNG ...|               mã lò|\n",
      "|     82.0|23000000000|120606|Giảm 29 tỷ bán 23...|2024-09-26|  Sổ đỏ|    Quận 10|          11|             11|Hồ Chí Minh|BÁN LỖ KHÁCH SẠN ...|    Trần Thiện Chánh|\n",
      "|     58.0|16800000000|120605|Bán Căn Hộ Dịch V...|2024-09-26|  Sổ đỏ|    Quận 10|          14|             15|Hồ Chí Minh|Bán Căn Hộ Dịch V...|       Lê Hồng Phong|\n",
      "|     68.0| 7100000000|120607|Bán Nhà Âu Cơ Phư...|2024-09-26|  Sổ đỏ|   Tân Bình|           9|             10|Hồ Chí Minh|Bán Nhà Âu Cơ Phư...|               Âu Cơ|\n",
      "|     40.0| 6200000000|120608|Bán nhà ngõ 20 Hồ...|2024-09-26|  Sổ đỏ|Bắc Từ Liêm|           4|              4|     Hà Nội|Bán nhà ngõ 82 TR...|           Trần Cung|\n",
      "+---------+-----------+------+--------------------+----------+-------+-----------+------------+---------------+-----------+--------------------+--------------------+\n",
      "only showing top 20 rows\n",
      "\n"
     ]
    }
   ],
   "source": [
    "#xử lý giá trị null của Số_phòng_ngủ và Số_phòng_toilet bằng 0\n",
    "df = df.fillna({\"Số_phòng_ngủ\": 0, \"Số_phòng_toilet\": 0})\n",
    "df.show()\n"
   ]
  },
  {
   "cell_type": "code",
   "execution_count": 70,
   "metadata": {},
   "outputs": [
    {
     "name": "stdout",
     "output_type": "stream",
     "text": [
      "+---------+-----------+------+--------------------+----------+-------+-----------+------------+---------------+-----------+--------------------+--------------------+\n",
      "|Diện_tích|        Giá|Mã_tin|               Mô_tả| Ngày_đăng|Pháp_lý|       Quận|Số_phòng_ngủ|Số_phòng_toilet|  Thành_phố|             Tiêu_đề|               Đường|\n",
      "+---------+-----------+------+--------------------+----------+-------+-----------+------------+---------------+-----------+--------------------+--------------------+\n",
      "|    100.0|   10000000|121237|Thanh lý nhà Lý T...|2024-10-05|Unknown|   Cam Ranh|           2|              3|  Khánh Hòa|Thanh lý nhà Lý T...|Thanh lý nhà Lý T...|\n",
      "|    200.0|11090000000|121187| HIẾM DÃY TRỌ 1 X...|2024-10-02|  Sổ đỏ|     Gò Vấp|          15|             15|Hồ Chí Minh|BÁN GẤP DÃY NHÀ T...|         Quang Trung|\n",
      "|     56.0| 9950000000|121146|Bán nhà HXH hạ ch...|2024-10-02|  Sổ đỏ|  Hoàn Kiếm|           4|              5|     Hà Nội|Bán nhà HXH hạ ch...|       Trần Hưng Đạo|\n",
      "|     75.0| 2000000000|121107|B.án gấp căn CCMN...|2024-10-01|  Sổ đỏ| Thanh Xuân|           3|              2|     Hà Nội|bán gấp căn CCMN ...|           Giáp Nhất|\n",
      "|     45.0| 5800000000|121111|               Mô tả|2024-10-02|  Sổ đỏ| Bình Thạnh|           3|              3|Hồ Chí Minh|MẶT TIỀN KINH DOA...|                   1|\n",
      "|     56.0|45000000000|121070|Chính chủ bán nhà...|2024-10-01|  Sổ đỏ|     Quận 1|           0|              0|Hồ Chí Minh|Bán nhà Mặt tiền ...|             Đề Thám|\n",
      "|     55.0|          0|121001|CHỦ CẦN TIỀN BÁN ...|2024-10-01|  Sổ đỏ|Bắc Từ Liêm|           0|              0|     Hà Nội|CHỦ CẦN TIỀN BÁN ...|            Phú Diễn|\n",
      "|     20.0| 5400000000|120961|               Mô tả|2024-09-30|  Sổ đỏ|    Quận 10|           2|              3|Hồ Chí Minh|NHÀ PHƯỜNG 12  HẺ...|       Tô Hiến Thành|\n",
      "|     60.0|  750000000|120917| Vị trí Mặt tiền ...|2024-09-30|  Sổ đỏ| Nhơn Trạch|           0|              0|   Đồng Nai|DUY NHẤT 1 CĂN MẶ...|          Võ Thị Sáu|\n",
      "|     63.0| 5890000000|120877|Nhà Đinh Bộ Lĩnh ...|2024-09-30|  Sổ đỏ| Bình Thạnh|           2|              2|Hồ Chí Minh|Nhà Đinh Bộ Lĩnh ...|        Đinh Bộ Lĩnh|\n",
      "|     88.0| 8500000000|120840|CHÍNH CHỦ CẦN B.Á...|2024-09-29|  Sổ đỏ|  Thanh Trì|           4|              4|     Hà Nội|CHÍNH CHỦ CẦN B.Á...|                   1|\n",
      "|     30.0| 6000000000|120805|BÁN NHÀ YÊN HÒA T...|2024-09-28|  Sổ đỏ|   Cầu Giấy|           3|              3|     Hà Nội|BÁN NHÀ YÊN HÒA  ...|             Yên Hòa|\n",
      "|     42.0| 9750000000|120772|LÔ GÓC  KINH DOAN...|2024-09-28|  Sổ đỏ|    Hà Đông|           3|              0|     Hà Nội| VĂN QUÁN HÀ ĐÔNG...|                19/5|\n",
      "|     78.0|10600000000|120724|Diện tích 4.1m x ...|2024-09-28|  Sổ đỏ|    Tân Phú|           3|              4|Hồ Chí Minh|Gia tôt Măt tiên ...|              Lê Sao|\n",
      "|     51.0| 7900000000|120685|CHÍNH CHỦ CẦN BÁN...|2024-09-27|  Sổ đỏ|  Hoàng Mai|           4|              3|     Hà Nội|CHÍNH CHỦ CẦN BÁN...|           Hoàng Mai|\n",
      "|     44.0| 4000000000|120641|SIÊU PHẨM 3 TẦNG ...|2024-09-27|  Sổ đỏ|   Bình Tân|           3|              0|Hồ Chí Minh|SIÊU PHẨM 3 TẦNG ...|               mã lò|\n",
      "|     82.0|23000000000|120606|Giảm 29 tỷ bán 23...|2024-09-26|  Sổ đỏ|    Quận 10|          11|             11|Hồ Chí Minh|BÁN LỖ KHÁCH SẠN ...|    Trần Thiện Chánh|\n",
      "|     58.0|16800000000|120605|Bán Căn Hộ Dịch V...|2024-09-26|  Sổ đỏ|    Quận 10|          14|             15|Hồ Chí Minh|Bán Căn Hộ Dịch V...|       Lê Hồng Phong|\n",
      "|     68.0| 7100000000|120607|Bán Nhà Âu Cơ Phư...|2024-09-26|  Sổ đỏ|   Tân Bình|           9|             10|Hồ Chí Minh|Bán Nhà Âu Cơ Phư...|               Âu Cơ|\n",
      "|     40.0| 6200000000|120608|Bán nhà ngõ 20 Hồ...|2024-09-26|  Sổ đỏ|Bắc Từ Liêm|           4|              4|     Hà Nội|Bán nhà ngõ 82 TR...|           Trần Cung|\n",
      "+---------+-----------+------+--------------------+----------+-------+-----------+------------+---------------+-----------+--------------------+--------------------+\n",
      "only showing top 20 rows\n",
      "\n"
     ]
    }
   ],
   "source": [
    "#Thay thế giá trị null của Pháp_lý thành \"Unknown\"\n",
    "df = df.fillna({\"Pháp_lý\": \"Unknown\"})\n",
    "df.show()\n"
   ]
  },
  {
   "cell_type": "code",
   "execution_count": 71,
   "metadata": {},
   "outputs": [
    {
     "name": "stdout",
     "output_type": "stream",
     "text": [
      "Số giá trị null trong cột 'Diện_tích': 0\n",
      "Số giá trị null trong cột 'Giá': 0\n",
      "Số giá trị null trong cột 'Mã_tin': 0\n",
      "Số giá trị null trong cột 'Mô_tả': 0\n",
      "Số giá trị null trong cột 'Ngày_đăng': 0\n",
      "Số giá trị null trong cột 'Pháp_lý': 0\n",
      "Số giá trị null trong cột 'Quận': 0\n",
      "Số giá trị null trong cột 'Số_phòng_ngủ': 0\n",
      "Số giá trị null trong cột 'Số_phòng_toilet': 0\n",
      "Số giá trị null trong cột 'Thành_phố': 0\n",
      "Số giá trị null trong cột 'Tiêu_đề': 0\n",
      "Số giá trị null trong cột 'Đường': 0\n"
     ]
    }
   ],
   "source": [
    "#kiểm tra lại \n",
    "# Tạo danh sách các cột kiểm tra giá trị null để dễ dàng xử lý\n",
    "columns_to_check = ['Diện_tích', 'Giá', 'Mã_tin', 'Mô_tả', 'Ngày_đăng', 'Pháp_lý', 'Quận', 'Số_phòng_ngủ', 'Số_phòng_toilet', 'Thành_phố', 'Tiêu_đề', 'Đường']\n",
    "\n",
    "# Lặp qua từng cột và đếm số giá trị null\n",
    "for col in columns_to_check:\n",
    "    null_count = df.filter(F.col(col).isNull()).count()  # Đếm số giá trị null trong cột\n",
    "    print(f\"Số giá trị null trong cột '{col}': {null_count}\")\n"
   ]
  },
  {
   "cell_type": "code",
   "execution_count": 72,
   "metadata": {},
   "outputs": [
    {
     "name": "stdout",
     "output_type": "stream",
     "text": [
      "Số giá trị bằng 0 trong cột 'Giá': 5\n"
     ]
    }
   ],
   "source": [
    "# Đếm số giá trị bằng 0 trong cột Giá\n",
    "zero_count = df.filter(F.col(\"Giá\") == 0).count()\n",
    "# In ra số lượng giá trị bằng 0\n",
    "print(f\"Số giá trị bằng 0 trong cột 'Giá': {zero_count}\")\n"
   ]
  },
  {
   "cell_type": "code",
   "execution_count": 73,
   "metadata": {},
   "outputs": [
    {
     "name": "stdout",
     "output_type": "stream",
     "text": [
      "+---------+-----------+------+--------------------+----------+-------+-----------+------------+---------------+-----------+--------------------+--------------------+\n",
      "|Diện_tích|        Giá|Mã_tin|               Mô_tả| Ngày_đăng|Pháp_lý|       Quận|Số_phòng_ngủ|Số_phòng_toilet|  Thành_phố|             Tiêu_đề|               Đường|\n",
      "+---------+-----------+------+--------------------+----------+-------+-----------+------------+---------------+-----------+--------------------+--------------------+\n",
      "|    100.0|   10000000|121237|Thanh lý nhà Lý T...|2024-10-05|Unknown|   Cam Ranh|           2|              3|  Khánh Hòa|Thanh lý nhà Lý T...|Thanh lý nhà Lý T...|\n",
      "|    200.0|11090000000|121187| HIẾM DÃY TRỌ 1 X...|2024-10-02|  Sổ đỏ|     Gò Vấp|          15|             15|Hồ Chí Minh|BÁN GẤP DÃY NHÀ T...|         Quang Trung|\n",
      "|     56.0| 9950000000|121146|Bán nhà HXH hạ ch...|2024-10-02|  Sổ đỏ|  Hoàn Kiếm|           4|              5|     Hà Nội|Bán nhà HXH hạ ch...|       Trần Hưng Đạo|\n",
      "|     75.0| 2000000000|121107|B.án gấp căn CCMN...|2024-10-01|  Sổ đỏ| Thanh Xuân|           3|              2|     Hà Nội|bán gấp căn CCMN ...|           Giáp Nhất|\n",
      "|     45.0| 5800000000|121111|               Mô tả|2024-10-02|  Sổ đỏ| Bình Thạnh|           3|              3|Hồ Chí Minh|MẶT TIỀN KINH DOA...|                   1|\n",
      "|     56.0|45000000000|121070|Chính chủ bán nhà...|2024-10-01|  Sổ đỏ|     Quận 1|           0|              0|Hồ Chí Minh|Bán nhà Mặt tiền ...|             Đề Thám|\n",
      "|     20.0| 5400000000|120961|               Mô tả|2024-09-30|  Sổ đỏ|    Quận 10|           2|              3|Hồ Chí Minh|NHÀ PHƯỜNG 12  HẺ...|       Tô Hiến Thành|\n",
      "|     60.0|  750000000|120917| Vị trí Mặt tiền ...|2024-09-30|  Sổ đỏ| Nhơn Trạch|           0|              0|   Đồng Nai|DUY NHẤT 1 CĂN MẶ...|          Võ Thị Sáu|\n",
      "|     63.0| 5890000000|120877|Nhà Đinh Bộ Lĩnh ...|2024-09-30|  Sổ đỏ| Bình Thạnh|           2|              2|Hồ Chí Minh|Nhà Đinh Bộ Lĩnh ...|        Đinh Bộ Lĩnh|\n",
      "|     88.0| 8500000000|120840|CHÍNH CHỦ CẦN B.Á...|2024-09-29|  Sổ đỏ|  Thanh Trì|           4|              4|     Hà Nội|CHÍNH CHỦ CẦN B.Á...|                   1|\n",
      "|     30.0| 6000000000|120805|BÁN NHÀ YÊN HÒA T...|2024-09-28|  Sổ đỏ|   Cầu Giấy|           3|              3|     Hà Nội|BÁN NHÀ YÊN HÒA  ...|             Yên Hòa|\n",
      "|     42.0| 9750000000|120772|LÔ GÓC  KINH DOAN...|2024-09-28|  Sổ đỏ|    Hà Đông|           3|              0|     Hà Nội| VĂN QUÁN HÀ ĐÔNG...|                19/5|\n",
      "|     78.0|10600000000|120724|Diện tích 4.1m x ...|2024-09-28|  Sổ đỏ|    Tân Phú|           3|              4|Hồ Chí Minh|Gia tôt Măt tiên ...|              Lê Sao|\n",
      "|     51.0| 7900000000|120685|CHÍNH CHỦ CẦN BÁN...|2024-09-27|  Sổ đỏ|  Hoàng Mai|           4|              3|     Hà Nội|CHÍNH CHỦ CẦN BÁN...|           Hoàng Mai|\n",
      "|     44.0| 4000000000|120641|SIÊU PHẨM 3 TẦNG ...|2024-09-27|  Sổ đỏ|   Bình Tân|           3|              0|Hồ Chí Minh|SIÊU PHẨM 3 TẦNG ...|               mã lò|\n",
      "|     82.0|23000000000|120606|Giảm 29 tỷ bán 23...|2024-09-26|  Sổ đỏ|    Quận 10|          11|             11|Hồ Chí Minh|BÁN LỖ KHÁCH SẠN ...|    Trần Thiện Chánh|\n",
      "|     58.0|16800000000|120605|Bán Căn Hộ Dịch V...|2024-09-26|  Sổ đỏ|    Quận 10|          14|             15|Hồ Chí Minh|Bán Căn Hộ Dịch V...|       Lê Hồng Phong|\n",
      "|     68.0| 7100000000|120607|Bán Nhà Âu Cơ Phư...|2024-09-26|  Sổ đỏ|   Tân Bình|           9|             10|Hồ Chí Minh|Bán Nhà Âu Cơ Phư...|               Âu Cơ|\n",
      "|     40.0| 6200000000|120608|Bán nhà ngõ 20 Hồ...|2024-09-26|  Sổ đỏ|Bắc Từ Liêm|           4|              4|     Hà Nội|Bán nhà ngõ 82 TR...|           Trần Cung|\n",
      "|     56.0|14500000000|120609|Diện tích thực tế...|2024-09-26|  Sổ đỏ|    Quận 10|           5|              5|Hồ Chí Minh|NHÀ NGỘP BÁN GÁP ...|          lý thái tổ|\n",
      "+---------+-----------+------+--------------------+----------+-------+-----------+------------+---------------+-----------+--------------------+--------------------+\n",
      "only showing top 20 rows\n",
      "\n"
     ]
    }
   ],
   "source": [
    "# nhận thấy có 5 giá trị của cột Giá=0 nên xóa đi\n",
    "# Xóa các dòng có giá trị bằng 0 trong cột 'Giá'\n",
    "df = df.filter(F.col(\"Giá\") != 0)\n",
    "\n",
    "# Hiển thị DataFrame sau khi xóa\n",
    "df.show()\n"
   ]
  },
  {
   "cell_type": "code",
   "execution_count": 74,
   "metadata": {},
   "outputs": [
    {
     "name": "stdout",
     "output_type": "stream",
     "text": [
      "Kích thước của DataFrame: 1003 hàng và 12 cột\n"
     ]
    }
   ],
   "source": [
    "#xem lại kích thước\n",
    "num_rows = df.count()\n",
    "num_columns = len(df.columns)\n",
    "print(f\"Kích thước của DataFrame: {num_rows} hàng và {num_columns} cột\")\n"
   ]
  },
  {
   "cell_type": "code",
   "execution_count": 75,
   "metadata": {},
   "outputs": [
    {
     "name": "stdout",
     "output_type": "stream",
     "text": [
      "+-----+-----------+------------+--------------------+-----------+------------+-----------+--------+---------+-----------+--------------------+--------------------+\n",
      "| Area|      Price|message_code|         Description|Posted_Date|Legal_Status|   District|Bedrooms|Bathrooms|       City|               Title|         Street_Name|\n",
      "+-----+-----------+------------+--------------------+-----------+------------+-----------+--------+---------+-----------+--------------------+--------------------+\n",
      "|100.0|   10000000|      121237|Thanh lý nhà Lý T...| 2024-10-05|     Unknown|   Cam Ranh|       2|        3|  Khánh Hòa|Thanh lý nhà Lý T...|Thanh lý nhà Lý T...|\n",
      "|200.0|11090000000|      121187| HIẾM DÃY TRỌ 1 X...| 2024-10-02|       Sổ đỏ|     Gò Vấp|      15|       15|Hồ Chí Minh|BÁN GẤP DÃY NHÀ T...|         Quang Trung|\n",
      "| 56.0| 9950000000|      121146|Bán nhà HXH hạ ch...| 2024-10-02|       Sổ đỏ|  Hoàn Kiếm|       4|        5|     Hà Nội|Bán nhà HXH hạ ch...|       Trần Hưng Đạo|\n",
      "| 75.0| 2000000000|      121107|B.án gấp căn CCMN...| 2024-10-01|       Sổ đỏ| Thanh Xuân|       3|        2|     Hà Nội|bán gấp căn CCMN ...|           Giáp Nhất|\n",
      "| 45.0| 5800000000|      121111|               Mô tả| 2024-10-02|       Sổ đỏ| Bình Thạnh|       3|        3|Hồ Chí Minh|MẶT TIỀN KINH DOA...|                   1|\n",
      "| 56.0|45000000000|      121070|Chính chủ bán nhà...| 2024-10-01|       Sổ đỏ|     Quận 1|       0|        0|Hồ Chí Minh|Bán nhà Mặt tiền ...|             Đề Thám|\n",
      "| 20.0| 5400000000|      120961|               Mô tả| 2024-09-30|       Sổ đỏ|    Quận 10|       2|        3|Hồ Chí Minh|NHÀ PHƯỜNG 12  HẺ...|       Tô Hiến Thành|\n",
      "| 60.0|  750000000|      120917| Vị trí Mặt tiền ...| 2024-09-30|       Sổ đỏ| Nhơn Trạch|       0|        0|   Đồng Nai|DUY NHẤT 1 CĂN MẶ...|          Võ Thị Sáu|\n",
      "| 63.0| 5890000000|      120877|Nhà Đinh Bộ Lĩnh ...| 2024-09-30|       Sổ đỏ| Bình Thạnh|       2|        2|Hồ Chí Minh|Nhà Đinh Bộ Lĩnh ...|        Đinh Bộ Lĩnh|\n",
      "| 88.0| 8500000000|      120840|CHÍNH CHỦ CẦN B.Á...| 2024-09-29|       Sổ đỏ|  Thanh Trì|       4|        4|     Hà Nội|CHÍNH CHỦ CẦN B.Á...|                   1|\n",
      "| 30.0| 6000000000|      120805|BÁN NHÀ YÊN HÒA T...| 2024-09-28|       Sổ đỏ|   Cầu Giấy|       3|        3|     Hà Nội|BÁN NHÀ YÊN HÒA  ...|             Yên Hòa|\n",
      "| 42.0| 9750000000|      120772|LÔ GÓC  KINH DOAN...| 2024-09-28|       Sổ đỏ|    Hà Đông|       3|        0|     Hà Nội| VĂN QUÁN HÀ ĐÔNG...|                19/5|\n",
      "| 78.0|10600000000|      120724|Diện tích 4.1m x ...| 2024-09-28|       Sổ đỏ|    Tân Phú|       3|        4|Hồ Chí Minh|Gia tôt Măt tiên ...|              Lê Sao|\n",
      "| 51.0| 7900000000|      120685|CHÍNH CHỦ CẦN BÁN...| 2024-09-27|       Sổ đỏ|  Hoàng Mai|       4|        3|     Hà Nội|CHÍNH CHỦ CẦN BÁN...|           Hoàng Mai|\n",
      "| 44.0| 4000000000|      120641|SIÊU PHẨM 3 TẦNG ...| 2024-09-27|       Sổ đỏ|   Bình Tân|       3|        0|Hồ Chí Minh|SIÊU PHẨM 3 TẦNG ...|               mã lò|\n",
      "| 82.0|23000000000|      120606|Giảm 29 tỷ bán 23...| 2024-09-26|       Sổ đỏ|    Quận 10|      11|       11|Hồ Chí Minh|BÁN LỖ KHÁCH SẠN ...|    Trần Thiện Chánh|\n",
      "| 58.0|16800000000|      120605|Bán Căn Hộ Dịch V...| 2024-09-26|       Sổ đỏ|    Quận 10|      14|       15|Hồ Chí Minh|Bán Căn Hộ Dịch V...|       Lê Hồng Phong|\n",
      "| 68.0| 7100000000|      120607|Bán Nhà Âu Cơ Phư...| 2024-09-26|       Sổ đỏ|   Tân Bình|       9|       10|Hồ Chí Minh|Bán Nhà Âu Cơ Phư...|               Âu Cơ|\n",
      "| 40.0| 6200000000|      120608|Bán nhà ngõ 20 Hồ...| 2024-09-26|       Sổ đỏ|Bắc Từ Liêm|       4|        4|     Hà Nội|Bán nhà ngõ 82 TR...|           Trần Cung|\n",
      "| 56.0|14500000000|      120609|Diện tích thực tế...| 2024-09-26|       Sổ đỏ|    Quận 10|       5|        5|Hồ Chí Minh|NHÀ NGỘP BÁN GÁP ...|          lý thái tổ|\n",
      "+-----+-----------+------------+--------------------+-----------+------------+-----------+--------+---------+-----------+--------------------+--------------------+\n",
      "only showing top 20 rows\n",
      "\n"
     ]
    }
   ],
   "source": [
    "# đổi tên cột\n",
    "df = df \\\n",
    "    .withColumnRenamed(\"Diện_tích\", \"Area\") \\\n",
    "    .withColumnRenamed(\"Mã_tin\", \"message_code\") \\\n",
    "    .withColumnRenamed(\"Giá\", \"Price\") \\\n",
    "    .withColumnRenamed(\"Mô_tả\", \"Description\") \\\n",
    "    .withColumnRenamed(\"Ngày_đăng\", \"Posted_Date\") \\\n",
    "    .withColumnRenamed(\"Pháp_lý\", \"Legal_Status\") \\\n",
    "    .withColumnRenamed(\"Quận\", \"District\") \\\n",
    "    .withColumnRenamed(\"Số_phòng_ngủ\", \"Bedrooms\") \\\n",
    "    .withColumnRenamed(\"Số_phòng_toilet\", \"Bathrooms\") \\\n",
    "    .withColumnRenamed(\"Thành_phố\", \"City\") \\\n",
    "    .withColumnRenamed(\"Tiêu_đề\", \"Title\") \\\n",
    "    .withColumnRenamed(\"Đường\", \"Street_Name\")\n",
    "\n",
    "# Hiển thị dữ liệu sau khi đổi tên cột\n",
    "df.show()\n"
   ]
  },
  {
   "cell_type": "code",
   "execution_count": 76,
   "metadata": {},
   "outputs": [
    {
     "data": {
      "text/plain": [
       "['Area',\n",
       " 'Price',\n",
       " 'message_code',\n",
       " 'Description',\n",
       " 'Posted_Date',\n",
       " 'Legal_Status',\n",
       " 'District',\n",
       " 'Bedrooms',\n",
       " 'Bathrooms',\n",
       " 'City',\n",
       " 'Title',\n",
       " 'Street_Name']"
      ]
     },
     "execution_count": 76,
     "metadata": {},
     "output_type": "execute_result"
    }
   ],
   "source": [
    "df.columns"
   ]
  },
  {
   "cell_type": "code",
   "execution_count": 77,
   "metadata": {},
   "outputs": [
    {
     "name": "stdout",
     "output_type": "stream",
     "text": [
      "+-----------------------------------------------------------------------------------------+----------+-----------+--------------+---------------+--------+\n",
      "|House_Title                                                                              |House_Area|House_Price|House_Bedrooms|House_Bathrooms|House_ID|\n",
      "+-----------------------------------------------------------------------------------------+----------+-----------+--------------+---------------+--------+\n",
      "|Thanh lý nhà Lý Thái Tổ, P10, Q10  50m2 2 tỷ 5 1T1L  sổ riêng. HĐT 13tr tháng. HXH 6m    |100.0     |10000000   |2             |3              |0       |\n",
      "|BÁN GẤP DÃY NHÀ TRỌ 200M2, QUANG TRUNG, 14 PHÒNG TRỌ P11 GÒ VẤP, GIÁ NHỈNH 11 ĐỒNG       |200.0     |11090000000|15            |15             |1       |\n",
      "|Bán nhà HXH hạ chào hơn 4 tỷ, Trần Hưng Đạo, P1, Q5, 56m2, 4 tầng. 9.x tỷ                |56.0      |9950000000 |4             |5              |2       |\n",
      "|bán gấp căn CCMN 75m 3 ngủ , 2 vệ sinh tại Giáp Nhất  Thanh Xuân Giá 2 tỷ                |75.0      |2000000000 |3             |2              |3       |\n",
      "|MẶT TIỀN KINH DOANH  45M2  CÁCH LANDMARK 15 PHÚT  3 PN  NHỈNH 5 TỶ                       |45.0      |5800000000 |3             |3              |4       |\n",
      "|Bán nhà Mặt tiền Đề Thám, Quận 1  7x17m  6 tầng thang máy  HĐT 120 trth. Chỉ 45 tỷ       |56.0      |45000000000|0             |0              |5       |\n",
      "|NHÀ PHƯỜNG 12  HẺM XE TẢI  MẶT TIỀN   NGAY TRUNG TÂM QUẬN 10  CHỈ 5.4 TỶ                 |20.0      |5400000000 |2             |3              |6       |\n",
      "|DUY NHẤT 1 CĂN MẶT TIỀN VÕ THỊ SÁU 5mx12m, GIÁ CHỈ 750 TRIỆU                             |60.0      |750000000  |0             |0              |7       |\n",
      "|Nhà Đinh Bộ Lĩnh ,P.26 gần Ngã tư HX, HXH , 63m2 , 4.5x15m, HC chuẩn                     |63.0      |5890000000 |2             |2              |8       |\n",
      "|CHÍNH CHỦ CẦN B.ÁN GẤP NHÀ THANH TRÌ 88m X 5 TẦNG, MT5.4M, GARA Ô  TÔ GIÁ CHỈ NHỈNH 8 TỶ |88.0      |8500000000 |4             |4              |9       |\n",
      "|BÁN NHÀ YÊN HÒA  CẦU GIẤY  NHÀ MỚI  15M RA ÔTÔ 30M2 5 TẦNG 6 TỶ                          |30.0      |6000000000 |3             |3              |10      |\n",
      "| VĂN QUÁN HÀ ĐÔNGDT 40m25TẦNGMT 8,2m  OTO NGỦ TRONG NHÀKINH DOANHTẶNG FFUN NỘI           |42.0      |9750000000 |3             |0              |11      |\n",
      "|Gia tôt Măt tiên Lê Sao DT 4.1x19m, 3 tâm mơi                                            |78.0      |10600000000|3             |4              |12      |\n",
      "|CHÍNH CHỦ CẦN BÁN NHÀ PHỐ HOÀNG MAI ĐỀN LỪ 51M X 4 TẦNG, MT5.3M GIÁ NHỈNH 7 TỶ           |51.0      |7900000000 |4             |3              |13      |\n",
      "|SIÊU PHẨM 3 TẦNG  44M2  HẺM ôtô THOÁNG  GIÁ CHỈ 4 TỶ  MÃ LÒ  BÌNH TRỊ ĐÔNG A  KỀ KHU TÊN |44.0      |4000000000 |3             |0              |14      |\n",
      "|BÁN LỖ KHÁCH SẠN ĐƯỜNG TRẦN THIỆN CHÁNH  TỪ 29T  CÒN 23 TỶ  82.5 M2  QUẬN 10             |82.0      |23000000000|11            |11             |15      |\n",
      "|Bán Căn Hộ Dịch Vụ Lê Hồng Phong Quận 10  Hẻm Xe Tải 6m.                                 |58.0      |16800000000|14            |15             |16      |\n",
      "|Bán Nhà Âu Cơ Phường 10 Quận Tân Bình.                                                   |68.0      |7100000000 |9             |10             |17      |\n",
      "|Bán nhà ngõ 82 TRẦN CUNG  DT 40m x 5 tầng x 6.2 tỷ                                       |40.0      |6200000000 |4             |4              |18      |\n",
      "|NHÀ NGỘP BÁN GÁP MẶT TIỀN KINH DOANH LÝ THÁI TỔ QUẬN 10  GIÁ 14.5 TỶ  THU NHẬP 500 TR NĂM|56.0      |14500000000|5             |5              |19      |\n",
      "+-----------------------------------------------------------------------------------------+----------+-----------+--------------+---------------+--------+\n",
      "only showing top 20 rows\n",
      "\n"
     ]
    }
   ],
   "source": [
    "#Tạo các bản con\n",
    "from pyspark.sql import functions as F\n",
    "# 1. Tạo bảng House_Info: Thông tin về diện tích, giá, số phòng\n",
    "house_info_df = df.select(\"Title\",\"Area\",\"Price\", \"Bedrooms\", \"Bathrooms\") \\\n",
    "    .withColumn(\"House_ID\", F.monotonically_increasing_id()) \\\n",
    "    .withColumnRenamed(\"Title\", \"House_Title\") \\\n",
    "    .withColumnRenamed(\"Area\", \"House_Area\") \\\n",
    "    .withColumnRenamed(\"Price\", \"House_Price\") \\\n",
    "    .withColumnRenamed(\"Bedrooms\", \"House_Bedrooms\") \\\n",
    "    .withColumnRenamed(\"Bathrooms\", \"House_Bathrooms\")\n",
    "\n",
    "# Hiển thị bảng House_Info\n",
    "house_info_df.show(truncate=False)\n",
    "\n"
   ]
  },
  {
   "cell_type": "code",
   "execution_count": 78,
   "metadata": {},
   "outputs": [
    {
     "name": "stdout",
     "output_type": "stream",
     "text": [
      "+-----------------------------------------------------------------------------------------+----------------+------------------+--------------+\n",
      "|House_Title                                                                              |Transaction_Date|Transaction_Status|Transaction_ID|\n",
      "+-----------------------------------------------------------------------------------------+----------------+------------------+--------------+\n",
      "|Thanh lý nhà Lý Thái Tổ, P10, Q10  50m2 2 tỷ 5 1T1L  sổ riêng. HĐT 13tr tháng. HXH 6m    |2024-10-05      |Unknown           |0             |\n",
      "|BÁN GẤP DÃY NHÀ TRỌ 200M2, QUANG TRUNG, 14 PHÒNG TRỌ P11 GÒ VẤP, GIÁ NHỈNH 11 ĐỒNG       |2024-10-02      |Sổ đỏ             |1             |\n",
      "|Bán nhà HXH hạ chào hơn 4 tỷ, Trần Hưng Đạo, P1, Q5, 56m2, 4 tầng. 9.x tỷ                |2024-10-02      |Sổ đỏ             |2             |\n",
      "|bán gấp căn CCMN 75m 3 ngủ , 2 vệ sinh tại Giáp Nhất  Thanh Xuân Giá 2 tỷ                |2024-10-01      |Sổ đỏ             |3             |\n",
      "|MẶT TIỀN KINH DOANH  45M2  CÁCH LANDMARK 15 PHÚT  3 PN  NHỈNH 5 TỶ                       |2024-10-02      |Sổ đỏ             |4             |\n",
      "|Bán nhà Mặt tiền Đề Thám, Quận 1  7x17m  6 tầng thang máy  HĐT 120 trth. Chỉ 45 tỷ       |2024-10-01      |Sổ đỏ             |5             |\n",
      "|NHÀ PHƯỜNG 12  HẺM XE TẢI  MẶT TIỀN   NGAY TRUNG TÂM QUẬN 10  CHỈ 5.4 TỶ                 |2024-09-30      |Sổ đỏ             |6             |\n",
      "|DUY NHẤT 1 CĂN MẶT TIỀN VÕ THỊ SÁU 5mx12m, GIÁ CHỈ 750 TRIỆU                             |2024-09-30      |Sổ đỏ             |7             |\n",
      "|Nhà Đinh Bộ Lĩnh ,P.26 gần Ngã tư HX, HXH , 63m2 , 4.5x15m, HC chuẩn                     |2024-09-30      |Sổ đỏ             |8             |\n",
      "|CHÍNH CHỦ CẦN B.ÁN GẤP NHÀ THANH TRÌ 88m X 5 TẦNG, MT5.4M, GARA Ô  TÔ GIÁ CHỈ NHỈNH 8 TỶ |2024-09-29      |Sổ đỏ             |9             |\n",
      "|BÁN NHÀ YÊN HÒA  CẦU GIẤY  NHÀ MỚI  15M RA ÔTÔ 30M2 5 TẦNG 6 TỶ                          |2024-09-28      |Sổ đỏ             |10            |\n",
      "| VĂN QUÁN HÀ ĐÔNGDT 40m25TẦNGMT 8,2m  OTO NGỦ TRONG NHÀKINH DOANHTẶNG FFUN NỘI           |2024-09-28      |Sổ đỏ             |11            |\n",
      "|Gia tôt Măt tiên Lê Sao DT 4.1x19m, 3 tâm mơi                                            |2024-09-28      |Sổ đỏ             |12            |\n",
      "|CHÍNH CHỦ CẦN BÁN NHÀ PHỐ HOÀNG MAI ĐỀN LỪ 51M X 4 TẦNG, MT5.3M GIÁ NHỈNH 7 TỶ           |2024-09-27      |Sổ đỏ             |13            |\n",
      "|SIÊU PHẨM 3 TẦNG  44M2  HẺM ôtô THOÁNG  GIÁ CHỈ 4 TỶ  MÃ LÒ  BÌNH TRỊ ĐÔNG A  KỀ KHU TÊN |2024-09-27      |Sổ đỏ             |14            |\n",
      "|BÁN LỖ KHÁCH SẠN ĐƯỜNG TRẦN THIỆN CHÁNH  TỪ 29T  CÒN 23 TỶ  82.5 M2  QUẬN 10             |2024-09-26      |Sổ đỏ             |15            |\n",
      "|Bán Căn Hộ Dịch Vụ Lê Hồng Phong Quận 10  Hẻm Xe Tải 6m.                                 |2024-09-26      |Sổ đỏ             |16            |\n",
      "|Bán Nhà Âu Cơ Phường 10 Quận Tân Bình.                                                   |2024-09-26      |Sổ đỏ             |17            |\n",
      "|Bán nhà ngõ 82 TRẦN CUNG  DT 40m x 5 tầng x 6.2 tỷ                                       |2024-09-26      |Sổ đỏ             |18            |\n",
      "|NHÀ NGỘP BÁN GÁP MẶT TIỀN KINH DOANH LÝ THÁI TỔ QUẬN 10  GIÁ 14.5 TỶ  THU NHẬP 500 TR NĂM|2024-09-26      |Sổ đỏ             |19            |\n",
      "+-----------------------------------------------------------------------------------------+----------------+------------------+--------------+\n",
      "only showing top 20 rows\n",
      "\n"
     ]
    }
   ],
   "source": [
    "# 2. Tạo bảng Transaction: Chứa thông tin giao dịch\n",
    "transaction_df = df.select(\"Title\",\"Posted_Date\", \"Legal_Status\") \\\n",
    "    .withColumn(\"Transaction_ID\", F.monotonically_increasing_id()) \\\n",
    "    .withColumnRenamed(\"Title\", \"House_Title\") \\\n",
    "    .withColumnRenamed(\"Posted_Date\", \"Transaction_Date\") \\\n",
    "    .withColumnRenamed(\"Legal_Status\", \"Transaction_Status\")  \n",
    "# Hiển thị bảng Transaction\n",
    "transaction_df.show(truncate=False)\n"
   ]
  },
  {
   "cell_type": "code",
   "execution_count": 79,
   "metadata": {},
   "outputs": [
    {
     "name": "stdout",
     "output_type": "stream",
     "text": [
      "+------------------------------------------------------------------------------------------------+----------------+------------------+--------------+--------+\n",
      "|House_Title                                                                                     |Transaction_Date|Transaction_Status|Transaction_ID|House_ID|\n",
      "+------------------------------------------------------------------------------------------------+----------------+------------------+--------------+--------+\n",
      "|Phân lô cạnh dự án Gold Mark City 136 Hồ Tùng Mậu 35m 4 tầng chỉ hơn 7 tỷ                       |2024-09-24      |Sổ đỏ             |411           |411     |\n",
      "|Bán nhà Liêm Mạc  Vị trí đẹp  Nhà mới có thang máy  45m2  5.6 tỷ  5 tầng  cực kì tiềm năng.     |2024-09-21      |Sổ đỏ             |456           |456     |\n",
      "|DƯƠNG QUẢNG HÀMCẦU GIẤY NHÀ XÂY MỚI 5 TẦNG x 31M2 6.86 TỶ NGÕ BA GÁC GẦN ÔTÔ                    |2024-09-24      |Sổ đỏ             |633           |633     |\n",
      "|Bán nhà Đình Phong Phú , HXH ,2 tầng , 110m2,ngang 5, dòng tiền                                 |2024-09-24      |Sổ đỏ             |667           |667     |\n",
      "|Siêu Phẩm Phố Giảng Võ, Đống Đa, 7 Tầng Thang Máy, DT 58m2, Gara ô Tô, Kinh Doanh, Nhỉnh 22 Tỷ. |2024-09-26      |Sổ đỏ             |827           |827     |\n",
      "|Bán Nhà Đường Nghĩa Phát Quận Tân Bình                                                          |2024-10-01      |Sổ đỏ             |280           |280     |\n",
      "|BÁN NHÀ PHÚ ĐÔ,47M2. 5 TẦNG.GIÁ 5.96 TỶ                                                         |2024-09-21      |Sổ đỏ             |462           |462     |\n",
      "|NÚI TRÚC SQUARE, BA ĐÌNH. 83M2 3 PHÒNG NGỦ  2 VỆ SINH, VỊ TRÍ TRUNG TÂM, DÂN TRÍ CAO, THUẬN TIỆN|2024-09-21      |Sổ đỏ             |479           |479     |\n",
      "|NHÀ SIÊU PHẨM  4 TẦNG  4X14  LÊ VĂN QUỚI  BÌNH TÂN  HƠN 4 TỶ                                    |2024-09-22      |Sổ đỏ             |499           |499     |\n",
      "|Cần bán nhà PHố Yên Hòa Ô tô tránh thanh máy chờ an sinh tuyệt đỉnh 65m x4 tầng 11 tỉ4          |2024-09-23      |Sổ đỏ             |582           |582     |\n",
      "|Ngay Vincom Phan Văn Trị  Hẻm 3m  4 x 8m  Có thu nhập 150 triệuy                                |2024-09-24      |Sổ đỏ             |669           |669     |\n",
      "|Bán Đất khuX7 Vườn Đào 120m Mt6m kinh doanh sầm uất, phân lô vỉa hè giá chỉ 210trm.             |2024-09-20      |Sổ đỏ             |835           |835     |\n",
      "|Bán đất 5X20  tặng nhà C4 HXH 1 Tân Chánh Hiệp 35, Quận 12 Giá rẻ 4.1T                          |2024-09-28      |Sổ đỏ             |117           |117     |\n",
      "|Nhà 6.3X28 Mặt Tiền Quốc Lộ 22  Trường Chinh nối dài ,Trung Mỹ Tây, Quận 12                     |2024-09-29      |Sổ đỏ             |156           |156     |\n",
      "|NHÀ CỰC ĐẸP, AN SINH ĐỈNH. PHỐ VIP, HOÀNG QUỐC VIỆT. 20m OTO TRÁNH..DIỆN TÍCH 45M, GIÁ 9,3 TỶ   |2024-09-29      |Sổ đỏ             |170           |170     |\n",
      "|Tôi bán Ngõ 120 Kim Giang, HM 39m2, 5 tầng, Ô tô vào nhà, Chỉ 8,x tỉ. LH 0904690958             |2024-09-23      |Sổ đỏ             |537           |537     |\n",
      "|Chính chủ cho thuê căn hộ hiện đại TẦNG 3  Xô Viết Nghệ Tĩnh P7                                 |2024-09-25      |Sổ đỏ             |735           |735     |\n",
      "|TRẦN QUỐC VƯỢNG CẦU GIẤY NGÕ NÔNG CÁCH ÔTÔ VÀI BƯỚC CHÂN 40M2 8.95 TỶ                           |2024-09-25      |Sổ đỏ             |754           |754     |\n",
      "|Chính chủ bán 4x10 1 Lũy Bán Bích Tân Phú 0767593939                                            |2024-09-26      |Sổ đỏ             |829           |829     |\n",
      "|NHÀ LIÊN KHU 56  HẺM XE HƠI THÔNG  48M2  2 TẦNG 2PN  SỔ VUÔNG GIÁ 3.45 TỶ                       |2024-10-02      |Sổ đỏ             |349           |349     |\n",
      "+------------------------------------------------------------------------------------------------+----------------+------------------+--------------+--------+\n",
      "only showing top 20 rows\n",
      "\n"
     ]
    }
   ],
   "source": [
    "# tạo khóa ngoại cho bảng transaction_df đến house_info_df\n",
    "transaction_df = transaction_df.join(\n",
    "    house_info_df.select(\"House_Title\", \"House_ID\"),\n",
    "    on=\"House_Title\",\n",
    "    how=\"inner\"\n",
    ")\n",
    "transaction_df.show(truncate=False)"
   ]
  },
  {
   "cell_type": "code",
   "execution_count": 80,
   "metadata": {},
   "outputs": [],
   "source": [
    "# # 3. Tạo bảng Location: Chứa thông tin vị trí\n",
    "# location_df = df.select(\"District\", \"City\", \"Street_Name\") \\\n",
    "#     .withColumn(\"Location_ID\", F.monotonically_increasing_id()) \\\n",
    "#     .withColumnRenamed(\"District\", \"District_Name\") \\\n",
    "#     .withColumnRenamed(\"City\", \"City_Name\") \\\n",
    "#     .withColumnRenamed(\"Street_Name\", \"House_Sreet\") \\\n",
    "\n",
    "# # Hiển thị bảng Location\n",
    "# location_df.show(truncate=False)\n"
   ]
  },
  {
   "cell_type": "code",
   "execution_count": 81,
   "metadata": {},
   "outputs": [],
   "source": [
    "# # Tạo khóa ngoại cho bảng location_df đến transaction_df\n",
    "# location_df = location_df.join(\n",
    "#     transaction_df.select( \"House_Date\",\"Transaction_ID\"),\n",
    "#     on=\"House_Date\", \n",
    "#     how=\"inner\"\n",
    "# )\n",
    "\n",
    "# # Hiển thị bảng location_with_transaction\n",
    "# location_df.show(truncate=False)"
   ]
  },
  {
   "cell_type": "code",
   "execution_count": 82,
   "metadata": {},
   "outputs": [
    {
     "name": "stdout",
     "output_type": "stream",
     "text": [
      "+--------------------+----------+------------+--------------+---------------+--------+\n",
      "|         House_Title|House_Area| House_Price|House_Bedrooms|House_Bathrooms|House_ID|\n",
      "+--------------------+----------+------------+--------------+---------------+--------+\n",
      "|Bán Nhà Mặt Đường...|    2200.0|190000000000|             4|              4|     126|\n",
      "|SIÊU PHẨM BIỆT TH...|    1000.0|150000000000|             0|              0|     179|\n",
      "|Bán mặt tiền Quận...|     200.0|132000000000|            10|             10|     933|\n",
      "|QUẬN 1Bán Nhà Mặt...|     170.0|115000000000|            15|             15|     923|\n",
      "|HIẾMBán nhà mặt p...|     180.0|100000000000|            10|             10|     937|\n",
      "| QUẬN 5Bán Nhà MT...|     160.0| 95000000000|             8|              8|     915|\n",
      "|Cần Bán Biệt Thự ...|     369.0| 86000000000|            15|              8|     391|\n",
      "|MẶT PHỐ NGHI TÀMT...|     126.0| 81000000000|             8|              0|     326|\n",
      "|75TỶBán Tòa Nhà Đ...|     152.0| 75000000000|            18|             20|     768|\n",
      "|Quận 1,Siêu Khan ...|     133.0| 70000000000|            42|             46|     635|\n",
      "+--------------------+----------+------------+--------------+---------------+--------+\n",
      "\n"
     ]
    }
   ],
   "source": [
    "# Top 10 giá lớn nhất\n",
    "from pyspark.sql import functions as F\n",
    "from pyspark.sql.functions import col\n",
    "top_10_Price= house_info_df.orderBy(col(\"House_Price\").desc()).limit(10)\n",
    "\n",
    "top_10_Price.show()"
   ]
  },
  {
   "cell_type": "code",
   "execution_count": 83,
   "metadata": {},
   "outputs": [
    {
     "name": "stdout",
     "output_type": "stream",
     "text": [
      "+--------------------+----------+-----------+--------------+---------------+--------+\n",
      "|         House_Title|House_Area|House_Price|House_Bedrooms|House_Bathrooms|House_ID|\n",
      "+--------------------+----------+-----------+--------------+---------------+--------+\n",
      "|Ban Nha Đươn Giên...|      68.0|       6170|             5|              3|     381|\n",
      "|Bán đất Tiền phon...|     125.0|    3500000|             0|              0|     766|\n",
      "|CHO THUÊ  Lý Chín...|      23.0|    8000000|             3|              2|     107|\n",
      "|Thanh lý nhà Lý T...|     100.0|   10000000|             2|              3|       0|\n",
      "|Chính chủ cho thu...|      50.0|   10500000|             2|              2|     735|\n",
      "|Bán nhà XUÂN LA, ...|      50.0|   12500000|             0|              0|     377|\n",
      "|NHÀ NGHĨA ĐÔ  PHÂ...|      35.0|   13000000|             0|              0|     376|\n",
      "|Cho thuê nhà làm ...|      45.0|   15000000|             4|              4|      74|\n",
      "|CHO THUÊ HOMESTAY...|      56.0|   20000000|             9|             10|     191|\n",
      "|CHO THUÊ NHÀ CÓ S...|      56.0|   85000000|            10|             10|     515|\n",
      "+--------------------+----------+-----------+--------------+---------------+--------+\n",
      "\n"
     ]
    }
   ],
   "source": [
    "# Top 10 giá nhỏ nhất\n",
    "from pyspark.sql import functions as F\n",
    "from pyspark.sql.functions import col\n",
    "top_10_Price= house_info_df.orderBy(col(\"House_Price\").asc()).limit(10)\n",
    "\n",
    "top_10_Price.show()"
   ]
  },
  {
   "cell_type": "code",
   "execution_count": 84,
   "metadata": {},
   "outputs": [
    {
     "name": "stdout",
     "output_type": "stream",
     "text": [
      "+--------------+----------------+-------+\n",
      "|City_Name     |Number_of_Houses|City_ID|\n",
      "+--------------+----------------+-------+\n",
      "|Hồ Chí Minh   |541             |6      |\n",
      "|Hà Nội        |402             |2      |\n",
      "|Đồng Nai      |13              |11     |\n",
      "|Bình Dương    |10              |8      |\n",
      "|Đà Nẵng       |9               |1      |\n",
      "|Long An       |5               |7      |\n",
      "|Khánh Hòa     |4               |5      |\n",
      "|Lâm Đồng      |4               |12     |\n",
      "|Thừa Thiên Huế|4               |14     |\n",
      "|Ninh Bình     |3               |9      |\n",
      "+--------------+----------------+-------+\n",
      "\n"
     ]
    }
   ],
   "source": [
    "# 4. Tạo bảng số lượng nhà bán theo thành phố\n",
    "houses_by_city_df = df.groupBy(\"City\") \\\n",
    "    .agg(F.count(\"Title\").alias(\"Number_of_Houses\")) \\\n",
    "    .withColumnRenamed(\"City\", \"City_Name\") \\\n",
    "    .withColumn(\"City_ID\", F.monotonically_increasing_id())  # Thêm City_ID làm khóa chính\n",
    "\n",
    "# Lấy Top 10 thành phố có số lượng nhà bán cao nhất\n",
    "top_10_cities_df = houses_by_city_df.orderBy(F.desc(\"Number_of_Houses\")).limit(10)\n",
    "\n",
    "# Hiển thị bảng Top 10 thành phố có số lượng nhà bán cao nhất\n",
    "top_10_cities_df.show(truncate=False)"
   ]
  },
  {
   "cell_type": "code",
   "execution_count": 85,
   "metadata": {},
   "outputs": [
    {
     "name": "stdout",
     "output_type": "stream",
     "text": [
      "+----------+-----------+--------------+---------------+--------+\n",
      "|House_Area|House_Price|House_Bedrooms|House_Bathrooms|House_ID|\n",
      "+----------+-----------+--------------+---------------+--------+\n",
      "|     225.0|31000000000|            45|             45|     457|\n",
      "|     133.0|70000000000|            42|             46|     635|\n",
      "|     162.0|60000000000|            35|             35|     213|\n",
      "|     122.0|37000000000|            35|             35|     658|\n",
      "|      81.0|18500000000|            27|             27|     500|\n",
      "|     128.0|19500000000|            26|              0|     701|\n",
      "|     100.0|22000000000|            24|             24|     877|\n",
      "|     170.0|32000000000|            23|             23|     449|\n",
      "|      99.0|35000000000|            22|             22|     806|\n",
      "|     132.0|40000000000|            20|             20|     898|\n",
      "+----------+-----------+--------------+---------------+--------+\n",
      "\n"
     ]
    }
   ],
   "source": [
    "# 5. Tạo các bản con\n",
    "from pyspark.sql import functions as F\n",
    "# 1. Tạo bảng House_Info: Thông tin về diện tích, giá, số phòng\n",
    "house_info_df = df.select(\"Area\", \"Price\", \"Bedrooms\", \"Bathrooms\") \\\n",
    "    .withColumn(\"House_ID\", F.monotonically_increasing_id()) \\\n",
    "    .withColumnRenamed(\"Area\", \"House_Area\") \\\n",
    "    .withColumnRenamed(\"Price\", \"House_Price\") \\\n",
    "    .withColumnRenamed(\"Bedrooms\", \"House_Bedrooms\") \\\n",
    "    .withColumnRenamed(\"Bathrooms\", \"House_Bathrooms\")\n",
    "\n",
    "#tạo dataframe cho nhà có phòng ngủ thấp đến cao\n",
    "top_hours_bedrooms_df=house_info_df\\\n",
    "    .orderBy(F.desc(\"House_Bedrooms\"))\\\n",
    "    .limit(10)\n",
    "    \n",
    "#hiển thị\n",
    "top_hours_bedrooms_df.show()\n",
    "\n"
   ]
  },
  {
   "cell_type": "code",
   "execution_count": 86,
   "metadata": {},
   "outputs": [],
   "source": [
    "# Kết nối tới PostgreSQL\n",
    "\n",
    "jdbc_url = \"jdbc:postgresql://localhost:5432/postgre_bds\"\n",
    "\n",
    "connection_properties = {\n",
    "    \"user\": \"postgres\",\n",
    "    \"password\": \"1\",\n",
    "    \"driver\": \"org.postgresql.Driver\"\n",
    "}"
   ]
  },
  {
   "cell_type": "code",
   "execution_count": 87,
   "metadata": {},
   "outputs": [],
   "source": [
    "# Hàm ghi dữ liệu vào PostgreSQL\n",
    "\n",
    "def write_to_postgres(df, table_name):\n",
    "    try:\n",
    "        df.write.jdbc(\n",
    "            url=jdbc_url,\n",
    "            table=table_name,\n",
    "            mode=\"overwrite\",\n",
    "            properties=connection_properties\n",
    "        )\n",
    "        print(f\"Đã ghi thành công bảng {table_name} vào PostgreSQL!\")\n",
    "    except Exception as e:\n",
    "        print(f\"Lỗi khi ghi bảng {table_name} vào PostgreSQL: {e}\")"
   ]
  },
  {
   "cell_type": "code",
   "execution_count": 88,
   "metadata": {},
   "outputs": [
    {
     "name": "stdout",
     "output_type": "stream",
     "text": [
      "Lỗi khi ghi bảng house_info_df vào PostgreSQL: An error occurred while calling o732.jdbc.\n",
      ": org.postgresql.util.PSQLException: FATAL: database \"postgre_bds\" does not exist\n",
      "\tat org.postgresql.core.v3.QueryExecutorImpl.receiveErrorResponse(QueryExecutorImpl.java:2733)\n",
      "\tat org.postgresql.core.v3.QueryExecutorImpl.readStartupMessages(QueryExecutorImpl.java:2845)\n",
      "\tat org.postgresql.core.v3.QueryExecutorImpl.<init>(QueryExecutorImpl.java:176)\n",
      "\tat org.postgresql.core.v3.ConnectionFactoryImpl.openConnectionImpl(ConnectionFactoryImpl.java:323)\n",
      "\tat org.postgresql.core.ConnectionFactory.openConnection(ConnectionFactory.java:54)\n",
      "\tat org.postgresql.jdbc.PgConnection.<init>(PgConnection.java:273)\n",
      "\tat org.postgresql.Driver.makeConnection(Driver.java:446)\n",
      "\tat org.postgresql.Driver.connect(Driver.java:298)\n",
      "\tat org.apache.spark.sql.execution.datasources.jdbc.connection.BasicConnectionProvider.getConnection(BasicConnectionProvider.scala:49)\n",
      "\tat org.apache.spark.sql.execution.datasources.jdbc.connection.ConnectionProviderBase.create(ConnectionProvider.scala:102)\n",
      "\tat org.apache.spark.sql.jdbc.JdbcDialect.$anonfun$createConnectionFactory$1(JdbcDialects.scala:160)\n",
      "\tat org.apache.spark.sql.jdbc.JdbcDialect.$anonfun$createConnectionFactory$1$adapted(JdbcDialects.scala:156)\n",
      "\tat org.apache.spark.sql.execution.datasources.jdbc.JdbcRelationProvider.createRelation(JdbcRelationProvider.scala:50)\n",
      "\tat org.apache.spark.sql.execution.datasources.SaveIntoDataSourceCommand.run(SaveIntoDataSourceCommand.scala:48)\n",
      "\tat org.apache.spark.sql.execution.command.ExecutedCommandExec.sideEffectResult$lzycompute(commands.scala:75)\n",
      "\tat org.apache.spark.sql.execution.command.ExecutedCommandExec.sideEffectResult(commands.scala:73)\n",
      "\tat org.apache.spark.sql.execution.command.ExecutedCommandExec.executeCollect(commands.scala:84)\n",
      "\tat org.apache.spark.sql.execution.QueryExecution$$anonfun$eagerlyExecuteCommands$1.$anonfun$applyOrElse$1(QueryExecution.scala:107)\n",
      "\tat org.apache.spark.sql.execution.SQLExecution$.$anonfun$withNewExecutionId$6(SQLExecution.scala:125)\n",
      "\tat org.apache.spark.sql.execution.SQLExecution$.withSQLConfPropagated(SQLExecution.scala:201)\n",
      "\tat org.apache.spark.sql.execution.SQLExecution$.$anonfun$withNewExecutionId$1(SQLExecution.scala:108)\n",
      "\tat org.apache.spark.sql.SparkSession.withActive(SparkSession.scala:900)\n",
      "\tat org.apache.spark.sql.execution.SQLExecution$.withNewExecutionId(SQLExecution.scala:66)\n",
      "\tat org.apache.spark.sql.execution.QueryExecution$$anonfun$eagerlyExecuteCommands$1.applyOrElse(QueryExecution.scala:107)\n",
      "\tat org.apache.spark.sql.execution.QueryExecution$$anonfun$eagerlyExecuteCommands$1.applyOrElse(QueryExecution.scala:98)\n",
      "\tat org.apache.spark.sql.catalyst.trees.TreeNode.$anonfun$transformDownWithPruning$1(TreeNode.scala:461)\n",
      "\tat org.apache.spark.sql.catalyst.trees.CurrentOrigin$.withOrigin(origin.scala:76)\n",
      "\tat org.apache.spark.sql.catalyst.trees.TreeNode.transformDownWithPruning(TreeNode.scala:461)\n",
      "\tat org.apache.spark.sql.catalyst.plans.logical.LogicalPlan.org$apache$spark$sql$catalyst$plans$logical$AnalysisHelper$$super$transformDownWithPruning(LogicalPlan.scala:32)\n",
      "\tat org.apache.spark.sql.catalyst.plans.logical.AnalysisHelper.transformDownWithPruning(AnalysisHelper.scala:267)\n",
      "\tat org.apache.spark.sql.catalyst.plans.logical.AnalysisHelper.transformDownWithPruning$(AnalysisHelper.scala:263)\n",
      "\tat org.apache.spark.sql.catalyst.plans.logical.LogicalPlan.transformDownWithPruning(LogicalPlan.scala:32)\n",
      "\tat org.apache.spark.sql.catalyst.plans.logical.LogicalPlan.transformDownWithPruning(LogicalPlan.scala:32)\n",
      "\tat org.apache.spark.sql.catalyst.trees.TreeNode.transformDown(TreeNode.scala:437)\n",
      "\tat org.apache.spark.sql.execution.QueryExecution.eagerlyExecuteCommands(QueryExecution.scala:98)\n",
      "\tat org.apache.spark.sql.execution.QueryExecution.commandExecuted$lzycompute(QueryExecution.scala:85)\n",
      "\tat org.apache.spark.sql.execution.QueryExecution.commandExecuted(QueryExecution.scala:83)\n",
      "\tat org.apache.spark.sql.execution.QueryExecution.assertCommandExecuted(QueryExecution.scala:142)\n",
      "\tat org.apache.spark.sql.DataFrameWriter.runCommand(DataFrameWriter.scala:869)\n",
      "\tat org.apache.spark.sql.DataFrameWriter.saveToV1Source(DataFrameWriter.scala:391)\n",
      "\tat org.apache.spark.sql.DataFrameWriter.saveInternal(DataFrameWriter.scala:364)\n",
      "\tat org.apache.spark.sql.DataFrameWriter.save(DataFrameWriter.scala:251)\n",
      "\tat org.apache.spark.sql.DataFrameWriter.jdbc(DataFrameWriter.scala:766)\n",
      "\tat java.base/jdk.internal.reflect.NativeMethodAccessorImpl.invoke0(Native Method)\n",
      "\tat java.base/jdk.internal.reflect.NativeMethodAccessorImpl.invoke(NativeMethodAccessorImpl.java:62)\n",
      "\tat java.base/jdk.internal.reflect.DelegatingMethodAccessorImpl.invoke(DelegatingMethodAccessorImpl.java:43)\n",
      "\tat java.base/java.lang.reflect.Method.invoke(Method.java:566)\n",
      "\tat py4j.reflection.MethodInvoker.invoke(MethodInvoker.java:244)\n",
      "\tat py4j.reflection.ReflectionEngine.invoke(ReflectionEngine.java:374)\n",
      "\tat py4j.Gateway.invoke(Gateway.java:282)\n",
      "\tat py4j.commands.AbstractCommand.invokeMethod(AbstractCommand.java:132)\n",
      "\tat py4j.commands.CallCommand.execute(CallCommand.java:79)\n",
      "\tat py4j.ClientServerConnection.waitForCommands(ClientServerConnection.java:182)\n",
      "\tat py4j.ClientServerConnection.run(ClientServerConnection.java:106)\n",
      "\tat java.base/java.lang.Thread.run(Thread.java:834)\n",
      "\n",
      "Lỗi khi ghi bảng transaction_df vào PostgreSQL: An error occurred while calling o736.jdbc.\n",
      ": org.postgresql.util.PSQLException: FATAL: database \"postgre_bds\" does not exist\n",
      "\tat org.postgresql.core.v3.QueryExecutorImpl.receiveErrorResponse(QueryExecutorImpl.java:2733)\n",
      "\tat org.postgresql.core.v3.QueryExecutorImpl.readStartupMessages(QueryExecutorImpl.java:2845)\n",
      "\tat org.postgresql.core.v3.QueryExecutorImpl.<init>(QueryExecutorImpl.java:176)\n",
      "\tat org.postgresql.core.v3.ConnectionFactoryImpl.openConnectionImpl(ConnectionFactoryImpl.java:323)\n",
      "\tat org.postgresql.core.ConnectionFactory.openConnection(ConnectionFactory.java:54)\n",
      "\tat org.postgresql.jdbc.PgConnection.<init>(PgConnection.java:273)\n",
      "\tat org.postgresql.Driver.makeConnection(Driver.java:446)\n",
      "\tat org.postgresql.Driver.connect(Driver.java:298)\n",
      "\tat org.apache.spark.sql.execution.datasources.jdbc.connection.BasicConnectionProvider.getConnection(BasicConnectionProvider.scala:49)\n",
      "\tat org.apache.spark.sql.execution.datasources.jdbc.connection.ConnectionProviderBase.create(ConnectionProvider.scala:102)\n",
      "\tat org.apache.spark.sql.jdbc.JdbcDialect.$anonfun$createConnectionFactory$1(JdbcDialects.scala:160)\n",
      "\tat org.apache.spark.sql.jdbc.JdbcDialect.$anonfun$createConnectionFactory$1$adapted(JdbcDialects.scala:156)\n",
      "\tat org.apache.spark.sql.execution.datasources.jdbc.JdbcRelationProvider.createRelation(JdbcRelationProvider.scala:50)\n",
      "\tat org.apache.spark.sql.execution.datasources.SaveIntoDataSourceCommand.run(SaveIntoDataSourceCommand.scala:48)\n",
      "\tat org.apache.spark.sql.execution.command.ExecutedCommandExec.sideEffectResult$lzycompute(commands.scala:75)\n",
      "\tat org.apache.spark.sql.execution.command.ExecutedCommandExec.sideEffectResult(commands.scala:73)\n",
      "\tat org.apache.spark.sql.execution.command.ExecutedCommandExec.executeCollect(commands.scala:84)\n",
      "\tat org.apache.spark.sql.execution.QueryExecution$$anonfun$eagerlyExecuteCommands$1.$anonfun$applyOrElse$1(QueryExecution.scala:107)\n",
      "\tat org.apache.spark.sql.execution.SQLExecution$.$anonfun$withNewExecutionId$6(SQLExecution.scala:125)\n",
      "\tat org.apache.spark.sql.execution.SQLExecution$.withSQLConfPropagated(SQLExecution.scala:201)\n",
      "\tat org.apache.spark.sql.execution.SQLExecution$.$anonfun$withNewExecutionId$1(SQLExecution.scala:108)\n",
      "\tat org.apache.spark.sql.SparkSession.withActive(SparkSession.scala:900)\n",
      "\tat org.apache.spark.sql.execution.SQLExecution$.withNewExecutionId(SQLExecution.scala:66)\n",
      "\tat org.apache.spark.sql.execution.QueryExecution$$anonfun$eagerlyExecuteCommands$1.applyOrElse(QueryExecution.scala:107)\n",
      "\tat org.apache.spark.sql.execution.QueryExecution$$anonfun$eagerlyExecuteCommands$1.applyOrElse(QueryExecution.scala:98)\n",
      "\tat org.apache.spark.sql.catalyst.trees.TreeNode.$anonfun$transformDownWithPruning$1(TreeNode.scala:461)\n",
      "\tat org.apache.spark.sql.catalyst.trees.CurrentOrigin$.withOrigin(origin.scala:76)\n",
      "\tat org.apache.spark.sql.catalyst.trees.TreeNode.transformDownWithPruning(TreeNode.scala:461)\n",
      "\tat org.apache.spark.sql.catalyst.plans.logical.LogicalPlan.org$apache$spark$sql$catalyst$plans$logical$AnalysisHelper$$super$transformDownWithPruning(LogicalPlan.scala:32)\n",
      "\tat org.apache.spark.sql.catalyst.plans.logical.AnalysisHelper.transformDownWithPruning(AnalysisHelper.scala:267)\n",
      "\tat org.apache.spark.sql.catalyst.plans.logical.AnalysisHelper.transformDownWithPruning$(AnalysisHelper.scala:263)\n",
      "\tat org.apache.spark.sql.catalyst.plans.logical.LogicalPlan.transformDownWithPruning(LogicalPlan.scala:32)\n",
      "\tat org.apache.spark.sql.catalyst.plans.logical.LogicalPlan.transformDownWithPruning(LogicalPlan.scala:32)\n",
      "\tat org.apache.spark.sql.catalyst.trees.TreeNode.transformDown(TreeNode.scala:437)\n",
      "\tat org.apache.spark.sql.execution.QueryExecution.eagerlyExecuteCommands(QueryExecution.scala:98)\n",
      "\tat org.apache.spark.sql.execution.QueryExecution.commandExecuted$lzycompute(QueryExecution.scala:85)\n",
      "\tat org.apache.spark.sql.execution.QueryExecution.commandExecuted(QueryExecution.scala:83)\n",
      "\tat org.apache.spark.sql.execution.QueryExecution.assertCommandExecuted(QueryExecution.scala:142)\n",
      "\tat org.apache.spark.sql.DataFrameWriter.runCommand(DataFrameWriter.scala:869)\n",
      "\tat org.apache.spark.sql.DataFrameWriter.saveToV1Source(DataFrameWriter.scala:391)\n",
      "\tat org.apache.spark.sql.DataFrameWriter.saveInternal(DataFrameWriter.scala:364)\n",
      "\tat org.apache.spark.sql.DataFrameWriter.save(DataFrameWriter.scala:251)\n",
      "\tat org.apache.spark.sql.DataFrameWriter.jdbc(DataFrameWriter.scala:766)\n",
      "\tat java.base/jdk.internal.reflect.NativeMethodAccessorImpl.invoke0(Native Method)\n",
      "\tat java.base/jdk.internal.reflect.NativeMethodAccessorImpl.invoke(NativeMethodAccessorImpl.java:62)\n",
      "\tat java.base/jdk.internal.reflect.DelegatingMethodAccessorImpl.invoke(DelegatingMethodAccessorImpl.java:43)\n",
      "\tat java.base/java.lang.reflect.Method.invoke(Method.java:566)\n",
      "\tat py4j.reflection.MethodInvoker.invoke(MethodInvoker.java:244)\n",
      "\tat py4j.reflection.ReflectionEngine.invoke(ReflectionEngine.java:374)\n",
      "\tat py4j.Gateway.invoke(Gateway.java:282)\n",
      "\tat py4j.commands.AbstractCommand.invokeMethod(AbstractCommand.java:132)\n",
      "\tat py4j.commands.CallCommand.execute(CallCommand.java:79)\n",
      "\tat py4j.ClientServerConnection.waitForCommands(ClientServerConnection.java:182)\n",
      "\tat py4j.ClientServerConnection.run(ClientServerConnection.java:106)\n",
      "\tat java.base/java.lang.Thread.run(Thread.java:834)\n",
      "\n"
     ]
    }
   ],
   "source": [
    "# Lưu bảng vào PostgreSQL\n",
    "\n",
    "write_to_postgres(house_info_df, \"house_info_df\")\n",
    "\n",
    "write_to_postgres(transaction_df, \"transaction_df\")\n"
   ]
  },
  {
   "cell_type": "code",
   "execution_count": 89,
   "metadata": {},
   "outputs": [
    {
     "data": {
      "text/plain": [
       "['Area',\n",
       " 'Price',\n",
       " 'message_code',\n",
       " 'Description',\n",
       " 'Posted_Date',\n",
       " 'Legal_Status',\n",
       " 'District',\n",
       " 'Bedrooms',\n",
       " 'Bathrooms',\n",
       " 'City',\n",
       " 'Title',\n",
       " 'Street_Name']"
      ]
     },
     "execution_count": 89,
     "metadata": {},
     "output_type": "execute_result"
    }
   ],
   "source": [
    "df.columns"
   ]
  },
  {
   "cell_type": "code",
   "execution_count": 91,
   "metadata": {},
   "outputs": [
    {
     "name": "stdout",
     "output_type": "stream",
     "text": [
      "Đã xảy ra lỗi: 'coursename'\n"
     ]
    },
    {
     "name": "stderr",
     "output_type": "stream",
     "text": [
      "Traceback (most recent call last):\n",
      "  File \"C:\\Users\\PC\\AppData\\Local\\Temp\\ipykernel_23516\\2994431927.py\", line 47, in <module>\n",
      "    pg_cursor.execute(\"SELECT COUNT(*) FROM courses WHERE coursename = %s\", (document['coursename'],))\n",
      "KeyError: 'coursename'\n"
     ]
    }
   ],
   "source": [
    "from pymongo import MongoClient\n",
    "import psycopg2\n",
    "import traceback\n",
    "\n",
    "\n",
    "def create_table(pg_cursor):\n",
    "    create_table_query = \"\"\"\n",
    "    CREATE TABLE IF NOT EXISTS courses (\n",
    "        coursename TEXT PRIMARY KEY,\n",
    "        lecturer TEXT,\n",
    "        intro TEXT,\n",
    "        describe TEXT,\n",
    "        votenumber INTEGER,\n",
    "        rating NUMERIC,\n",
    "        newfee TEXT,\n",
    "        oldfee TEXT,\n",
    "        lessonnum INTEGER\n",
    "    );\n",
    "    \"\"\"\n",
    "    pg_cursor.execute(create_table_query)\n",
    "\n",
    "# Kết nối tới MongoDB\n",
    "mongo_client = MongoClient('mongodb://localhost:27017/')\n",
    "mongo_db = mongo_client['dbmycrawler']\n",
    "mongo_collection = mongo_db['batdongsan_data']\n",
    "\n",
    "# Kết nối tới PostgreSQL\n",
    "pg_conn = psycopg2.connect(\n",
    "    dbname='postgres',\n",
    "    user='postgres',\n",
    "    password='1',\n",
    "    host='localhost',\n",
    "    port='5432'\n",
    ")\n",
    "pg_cursor = pg_conn.cursor()\n",
    "\n",
    "try:\n",
    "    # Tạo bảng nếu chưa tồn tại\n",
    "    create_table(pg_cursor)\n",
    "\n",
    "    # Truy xuất dữ liệu từ MongoDB\n",
    "    documents = mongo_collection.find()\n",
    "\n",
    "    # Chèn dữ liệu vào PostgreSQL\n",
    "    for document in documents:\n",
    "        # Kiểm tra nếu 'coursename' đã tồn tại\n",
    "        pg_cursor.execute(\"SELECT COUNT(*) FROM courses WHERE coursename = %s\", (document['Mã_tin'],))\n",
    "        count = pg_cursor.fetchone()[0]\n",
    "        \n",
    "        if count == 0:  # Nếu không tồn tại, chèn dữ liệu\n",
    "            pg_cursor.execute(\n",
    "                \"\"\"\n",
    "                INSERT INTO courses (coursename, lecturer, intro, describe, votenumber, rating, newfee, oldfee, lessonnum)\n",
    "                VALUES (%s, %s, %s, %s, %s, %s, %s, %s, %s)\n",
    "                \"\"\",\n",
    "                (\n",
    "                    document['Mã_tin'],\n",
    "                    document['Tiêu_đề'],\n",
    "                    document['Đường'],\n",
    "                    document['Quận'],\n",
    "                    document['Thành_phố'],\n",
    "                    document['Diện_tích'],\n",
    "                    document['Giá'],\n",
    "                    document['Pháp_lý'],\n",
    "                    document['Số_phòng_ngủ']\n",
    "                )\n",
    "            )\n",
    "        else:\n",
    "            print(f\"'{document['coursename']}' đã tồn tại trong cơ sở dữ liệu.\")\n",
    "\n",
    "    # Commit các thay đổi\n",
    "    pg_conn.commit()\n",
    "\n",
    "except Exception as e:\n",
    "    print(f\"Đã xảy ra lỗi: {e}\")\n",
    "    traceback.print_exc()\n",
    "finally:\n",
    "    # Đóng kết nối\n",
    "    pg_cursor.close()\n",
    "    pg_conn.close()\n",
    "    mongo_client.close()"
   ]
  }
 ],
 "metadata": {
  "kernelspec": {
   "display_name": "Python 3",
   "language": "python",
   "name": "python3"
  },
  "language_info": {
   "codemirror_mode": {
    "name": "ipython",
    "version": 3
   },
   "file_extension": ".py",
   "mimetype": "text/x-python",
   "name": "python",
   "nbconvert_exporter": "python",
   "pygments_lexer": "ipython3",
   "version": "3.12.5"
  }
 },
 "nbformat": 4,
 "nbformat_minor": 2
}
